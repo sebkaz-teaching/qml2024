{
 "cells": [
  {
   "cell_type": "code",
   "execution_count": 4,
   "id": "182b88ba",
   "metadata": {},
   "outputs": [],
   "source": [
    "import numpy as np\n",
    "\n",
    "def measure_state(state, num_meas):\n",
    "    # assert state[0]* np.conj(state[0]) + state[1]* np.conj(state[1]) == 1\n",
    "\n",
    "    # COMPUTE THE MEASUREMENT OUTCOME PROBABILITIES\n",
    "    p_0 = state[0] * np.conj(state[0])\n",
    "    p_1 = state[1] * np.conj(state[1])\n",
    "    # RETURN A LIST OF SAMPLE MEASUREMENT OUTCOMES\n",
    "    return np.random.choice(2,num_meas, p=[p_0,p_1])  "
   ]
  },
  {
   "cell_type": "code",
   "execution_count": 10,
   "id": "4c39bb87",
   "metadata": {},
   "outputs": [
    {
     "data": {
      "text/plain": [
       "array([0.98994949, 0.14142136])"
      ]
     },
     "execution_count": 10,
     "metadata": {},
     "output_type": "execute_result"
    }
   ],
   "source": [
    "measure_state(np.array([0.8, 0.6]),5)\n",
    "\n",
    "U = np.array([[1, 1], [1, -1]]) / np.sqrt(2)\n",
    "U@np.array([0.8, 0.6])\n"
   ]
  },
  {
   "cell_type": "markdown",
   "id": "1e8e7ab0",
   "metadata": {},
   "source": [
    "# Biblioteka Qiskit wprowadzenie\n",
    "\n",
    "\n",
    "```bash\n",
    "python3 -m venv venv\n",
    "source venv/bin/activate\n",
    "# Scripts\\Activate\n",
    "\n",
    "pip install qiskit==0.44.1\n",
    "pip install qiskit[visualization]\n",
    "# pip install 'qiskit[visualization]'\n",
    "pip install qiskit_aer==0.12.2\n",
    "pip install qiskit_machine_learning==0.6.1\n",
    "pip install qiskit-finance==0.3.4\n",
    "pip install qiskit-ibmq-provider==0.20.2\n",
    "pip install qiskit-ignis==0.7.1\n",
    "pip install qiskit-algorithms==0.2.1\n",
    "```\n",
    "The other important libs.\n",
    "\n",
    "```bash\n",
    "pip install pylatexenc ipywidgets qutip\n",
    "pip install scikit-learn numpy scipy matplotlib \n",
    "pip install ipython pandas sympy nose seaborn jupyter notebook jupyterlab\n",
    "```"
   ]
  },
  {
   "cell_type": "code",
   "execution_count": null,
   "id": "a5155030",
   "metadata": {},
   "outputs": [],
   "source": [
    "from qiskit import  __qiskit_version__\n",
    "print(__qiskit_version__)\n",
    "\n",
    "import qiskit.tools.jupyter\n",
    "\n",
    "%qiskit_version_table"
   ]
  },
  {
   "cell_type": "code",
   "execution_count": 4,
   "id": "278d9562",
   "metadata": {},
   "outputs": [],
   "source": [
    "import numpy as np\n",
    "np.set_printoptions(precision=3, suppress=True)"
   ]
  },
  {
   "cell_type": "markdown",
   "id": "7019fe8d",
   "metadata": {},
   "source": [
    "## Qiskit podstawy\n",
    "\n",
    "Tworzenie rejestrów:\n",
    "\n",
    "1. kwantowego `QuantumRegister` - do inicjalizowania kubitów. Kubity domyślnie inicjalizowane są w stanie $|0\\rangle$\n",
    "2. klasycznego `ClassicalRegister` do przechowywania wyników pomiarów kubitów. Po pomiarze otrzymywany wynik zawsze jest binarny $\\{0,1\\}$."
   ]
  },
  {
   "cell_type": "code",
   "execution_count": 5,
   "id": "70f2bce7-562e-4280-81d3-cbd492f3ed0e",
   "metadata": {
    "tags": []
   },
   "outputs": [],
   "source": [
    "from qiskit import QuantumRegister, ClassicalRegister, QuantumCircuit"
   ]
  },
  {
   "cell_type": "markdown",
   "id": "c01d99b7",
   "metadata": {},
   "source": [
    "Oba rejestry wykorzystywane będą do generowania obwodów kwantowych `QuantumCircuit`.\n",
    "\n",
    "Wszystkie podstawowe obiekty dostępne są bezpośrednio w bibliotece `qiskit`."
   ]
  },
  {
   "cell_type": "code",
   "execution_count": 6,
   "id": "aef90a39-37b9-4528-a8af-c2a469c4ebaf",
   "metadata": {},
   "outputs": [],
   "source": [
    "qreq = QuantumRegister(4) # rejest kwantowy z 4 qubitami"
   ]
  },
  {
   "cell_type": "code",
   "execution_count": 7,
   "id": "8c477f13-2ed6-4fab-ae36-f54ec95b3fce",
   "metadata": {},
   "outputs": [],
   "source": [
    "creg = ClassicalRegister(4) # rejestr klasyczny z 4 bitami"
   ]
  },
  {
   "cell_type": "code",
   "execution_count": 8,
   "id": "1b0ec7d3-2925-441b-9e6f-6ae978c247a2",
   "metadata": {},
   "outputs": [],
   "source": [
    "circuit = QuantumCircuit(qreq, creg) # obwód kwantowy z 4 qubitami i 4 bitami"
   ]
  },
  {
   "cell_type": "code",
   "execution_count": null,
   "id": "f02d9537-4072-483a-8fa2-a856f70e7f13",
   "metadata": {},
   "outputs": [],
   "source": [
    "circuit.draw('mpl') # funkcja rysująca obwód"
   ]
  },
  {
   "cell_type": "code",
   "execution_count": 10,
   "id": "986243df-dd5f-476c-88ce-b8d3bd6fe47f",
   "metadata": {},
   "outputs": [],
   "source": [
    "output = QuantumRegister(1) # inny rejestr kwantowy z 1 qubitem"
   ]
  },
  {
   "cell_type": "code",
   "execution_count": 11,
   "id": "70430b6b-1cc0-4ce5-bfe2-eecb7e504233",
   "metadata": {},
   "outputs": [],
   "source": [
    "circuit2 = QuantumCircuit(qreq, output, creg)"
   ]
  },
  {
   "cell_type": "code",
   "execution_count": null,
   "id": "cc612eaa-135a-45af-b67a-86cebd7fa41e",
   "metadata": {},
   "outputs": [],
   "source": [
    "circuit2.draw(\"mpl\")"
   ]
  },
  {
   "cell_type": "code",
   "execution_count": 13,
   "id": "98381b26-5bd5-47f4-a7dd-d1d7a08da82d",
   "metadata": {},
   "outputs": [],
   "source": [
    "circuit3 = QuantumCircuit(qreq)"
   ]
  },
  {
   "cell_type": "code",
   "execution_count": null,
   "id": "50d8e860-8515-4108-bb10-b0726f9e2eeb",
   "metadata": {},
   "outputs": [],
   "source": [
    "circuit3.draw('mpl')"
   ]
  },
  {
   "cell_type": "code",
   "execution_count": null,
   "id": "76092e21-da23-45f4-9076-96de697572ae",
   "metadata": {
    "tags": []
   },
   "outputs": [],
   "source": [
    "circuit4 = QuantumCircuit(3,3)\n",
    "circuit4.draw(\"mpl\")"
   ]
  },
  {
   "cell_type": "code",
   "execution_count": null,
   "id": "4c7ebeb1",
   "metadata": {},
   "outputs": [],
   "source": [
    "from qiskit_aer.primitives import Sampler\n",
    "\n",
    "from qiskit import QuantumCircuit\n",
    "from qiskit.visualization import plot_histogram\n",
    "\n",
    "bell = QuantumCircuit(2)\n",
    "bell.h(0)\n",
    "bell.measure_all()\n",
    " \n",
    "# execute the quantum circuit\n",
    "quasi_dists = Sampler().run(bell, shots=1000).result().quasi_dists[0]\n",
    "print(quasi_dists)"
   ]
  },
  {
   "cell_type": "code",
   "execution_count": null,
   "id": "8677d1cb",
   "metadata": {},
   "outputs": [],
   "source": [
    "plot_histogram(quasi_dists)"
   ]
  },
  {
   "cell_type": "markdown",
   "id": "11005664",
   "metadata": {},
   "source": [
    "# to jest uzywane juz tylko w starej wersji 0.\n",
    "\n",
    "Po zdefiniowaniu naszego algorytmu jako zbioru bramek działających na naszych kubitach, obwód nalezy wykonać za pomocą metody `execute`."
   ]
  },
  {
   "cell_type": "code",
   "execution_count": null,
   "id": "8338a50e",
   "metadata": {},
   "outputs": [],
   "source": [
    "from qiskit import execute"
   ]
  },
  {
   "cell_type": "markdown",
   "id": "36d4109f",
   "metadata": {},
   "source": [
    "## Podstawowe backendy\n",
    "\n",
    "Wykonanie obwodu moze być realizowane zarówno na prawidziwym komputerze kwantowym jak i na lokalnym, klasycznym symulatorze. \n",
    "Większość naszych zadań przeprowadzanych będzie z wykorzystaniem symulatora `Aer`. "
   ]
  },
  {
   "cell_type": "code",
   "execution_count": null,
   "id": "313b5601",
   "metadata": {},
   "outputs": [],
   "source": [
    "from qiskit import Aer \n",
    "\n",
    "Aer.backends()"
   ]
  },
  {
   "cell_type": "markdown",
   "id": "cc0e17e2",
   "metadata": {},
   "source": [
    "Podstawowym symulatorem na którym mozemy w pełni uruchomić kod obwodu jest `qasm_simulator`.\n",
    "Uruchamia on cały obwód i zapisuje wyniki do rejestru klasycznego. Po wielokrotnym uruchomieniu obwodu mozemy sprawdzić równiez statystyki otrzymanych wyników. "
   ]
  },
  {
   "cell_type": "markdown",
   "id": "ea3c41e3",
   "metadata": {},
   "source": [
    "### Pomiar w obwodzie i wielokrotne uruchamianie układu"
   ]
  },
  {
   "cell_type": "code",
   "execution_count": null,
   "id": "3b52697c",
   "metadata": {},
   "outputs": [],
   "source": [
    "from qiskit import QuantumRegister, ClassicalRegister, QuantumCircuit\n",
    "\n",
    "qreg = QuantumRegister(2)\n",
    "creg = ClassicalRegister(2)\n",
    "# utworzenie obwodu kwantowego z 2 qubitami i 2 bitami\n",
    "circuit = QuantumCircuit(qreg, creg)\n",
    "circuit.h(qreg[0]) # działamy jakąś bramką na pierwszym qubicie\n",
    "circuit.measure(qreg, creg) # dokunujemy pomiaru\n",
    "\n",
    "# zdefiniowanie symulatora\n",
    "simulator = Aer.get_backend('qasm_simulator')\n",
    "# definicja zadania do wykonania\n",
    "job = execute(circuit, simulator, shots=1000)\n",
    "\n",
    "print(job.job_id())\n",
    "# wyciągnięcie wyników i statystyk\n",
    "counts = job.result().get_counts(circuit)\n",
    "print(counts)"
   ]
  },
  {
   "cell_type": "markdown",
   "id": "59f28754",
   "metadata": {},
   "source": [
    "Wizualizacja otrzymanych wyników realizowana metodą `plot_histogram`. "
   ]
  },
  {
   "cell_type": "code",
   "execution_count": null,
   "id": "49af82c8",
   "metadata": {},
   "outputs": [],
   "source": [
    "from qiskit.visualization import plot_histogram\n",
    "display(plot_histogram(counts))"
   ]
  },
  {
   "cell_type": "markdown",
   "id": "56c1b7da-73bf-4bdc-85b6-9de6a3590c4d",
   "metadata": {},
   "source": [
    "## Tworzenie stanu jednokubitowego \n",
    "\n",
    "\n",
    "$$\n",
    "\\ket{\\psi}=\\ket{0}\n",
    "$$"
   ]
  },
  {
   "cell_type": "markdown",
   "id": "e506a7e0",
   "metadata": {},
   "source": [
    "Do inspekcji stanu układu (bez jego pomiaru) mozemy uzyć backend `statevector_simulator`."
   ]
  },
  {
   "cell_type": "code",
   "execution_count": null,
   "id": "c3570ded-05f8-4ff8-9f5f-ae12c9482006",
   "metadata": {
    "tags": []
   },
   "outputs": [],
   "source": [
    "qr = QuantumRegister(1)\n",
    "qc = QuantumCircuit(qr)\n",
    "\n",
    "# klasyczny symulator pozwala zobaczyc stan\n",
    "backend = Aer.get_backend('statevector_simulator')\n",
    "job = execute(qc, backend)\n",
    "result = job.result()\n",
    "state = result.get_statevector() # wynik w postaci wektora stanu\n",
    "print(state)"
   ]
  },
  {
   "cell_type": "code",
   "execution_count": null,
   "id": "0d64192f",
   "metadata": {},
   "outputs": [],
   "source": [
    "state.draw('latex') # metoda wypisująca wektor stanu w latexu"
   ]
  },
  {
   "cell_type": "code",
   "execution_count": null,
   "id": "4ea18159",
   "metadata": {},
   "outputs": [],
   "source": [
    "from qiskit.visualization import plot_bloch_multivector\n",
    "plot_bloch_multivector(result.get_statevector())"
   ]
  },
  {
   "cell_type": "code",
   "execution_count": null,
   "id": "1e8e7d51",
   "metadata": {},
   "outputs": [],
   "source": [
    "qr = QuantumRegister(1)\n",
    "qc = QuantumCircuit(qr)\n",
    "qc.h(qr[0])\n",
    "backend = Aer.get_backend('statevector_simulator')\n",
    "job = execute(qc, backend)\n",
    "result = job.result()\n",
    "state = result.get_statevector()\n",
    "state.draw('latex')"
   ]
  },
  {
   "cell_type": "code",
   "execution_count": null,
   "id": "4ab0cb06",
   "metadata": {},
   "outputs": [],
   "source": [
    "from qiskit.visualization import plot_bloch_multivector\n",
    "plot_bloch_multivector(result.get_statevector())"
   ]
  },
  {
   "cell_type": "markdown",
   "id": "320f4890",
   "metadata": {},
   "source": [
    "### inicjalizacja stanu\n"
   ]
  },
  {
   "cell_type": "code",
   "execution_count": null,
   "id": "ef4f5ad1",
   "metadata": {},
   "outputs": [],
   "source": [
    "from qiskit import QuantumCircuit\n",
    "qc = QuantumCircuit(1)\n",
    "initial_state = [0,1]\n",
    "qc.initialize(initial_state, 0)\n",
    "qc.draw('mpl')"
   ]
  },
  {
   "cell_type": "code",
   "execution_count": null,
   "id": "f6b1cf9d",
   "metadata": {},
   "outputs": [],
   "source": [
    "from qiskit import Aer, execute\n",
    "backend = Aer.get_backend('statevector_simulator')\n",
    "result = execute(qc, backend).result()\n",
    "state = result.get_statevector()\n",
    "state.draw('latex')"
   ]
  },
  {
   "cell_type": "code",
   "execution_count": null,
   "id": "1c7d70e0",
   "metadata": {},
   "outputs": [],
   "source": [
    "initial_state = [1,1]\n",
    "qc = QuantumCircuit(1)\n",
    "qc.initialize(initial_state, 0)\n",
    "result = execute(qc, backend).result().get_statevector()\n",
    "result.draw('latex')"
   ]
  },
  {
   "cell_type": "code",
   "execution_count": null,
   "id": "363336f7",
   "metadata": {},
   "outputs": [],
   "source": [
    "from math import sqrt\n",
    "initial_state = [1/sqrt(2),1/sqrt(2)]\n",
    "qc = QuantumCircuit(1)\n",
    "qc.initialize(initial_state, 0)\n",
    "result = execute(qc, backend).result().get_statevector()\n",
    "result.draw('latex')"
   ]
  },
  {
   "cell_type": "code",
   "execution_count": null,
   "id": "ecd09c6c",
   "metadata": {},
   "outputs": [],
   "source": [
    "from math import sqrt\n",
    "initial_state = [1/2,sqrt(3)/2]\n",
    "qc = QuantumCircuit(1)\n",
    "qc.initialize(initial_state, 0)\n",
    "result = execute(qc, backend).result().get_statevector()\n",
    "result.draw('latex')"
   ]
  },
  {
   "cell_type": "code",
   "execution_count": null,
   "id": "2f90fb61",
   "metadata": {},
   "outputs": [],
   "source": [
    "from math import pi, cos, sin \n",
    "def get_state(theta):\n",
    "    return [cos(theta/2), sin(theta/2)]\n",
    "\n",
    "theta = -pi/2\n",
    "\n",
    "qc = QuantumCircuit(1)\n",
    "qc.initialize(get_state(theta), 0)\n",
    "backend = Aer.get_backend('statevector_simulator')\n",
    "result = execute(qc, backend).result().get_statevector()\n",
    "result.draw('latex')"
   ]
  },
  {
   "cell_type": "code",
   "execution_count": null,
   "id": "3cf37743",
   "metadata": {},
   "outputs": [],
   "source": [
    "from qiskit.visualization import plot_histogram\n",
    "result = execute(qc, backend).result().get_counts()\n",
    "plot_histogram(result)"
   ]
  },
  {
   "cell_type": "markdown",
   "id": "33b539fc",
   "metadata": {},
   "source": [
    "## Tworzenie stanu dwukubitowego\n",
    " \n",
    "\n",
    "$$\n",
    "\\ket{00}, \\ket{01}, \\ket{10}, \\ket{11}\n",
    "$$\n"
   ]
  },
  {
   "cell_type": "code",
   "execution_count": null,
   "id": "f5c990f0",
   "metadata": {},
   "outputs": [],
   "source": [
    "qr = QuantumRegister(2)\n",
    "qc = QuantumCircuit(qr)\n",
    "backend = Aer.get_backend('statevector_simulator')\n",
    "job = execute(qc, backend)\n",
    "result = job.result()\n",
    "state = result.get_statevector()\n",
    "state.draw('latex')"
   ]
  },
  {
   "cell_type": "code",
   "execution_count": null,
   "id": "0ffffe54",
   "metadata": {},
   "outputs": [],
   "source": [
    "qr = QuantumRegister(2)\n",
    "qc = QuantumCircuit(qr)\n",
    "qc.h(qr[0])\n",
    "qc.h(qr[1])\n",
    "backend = Aer.get_backend('statevector_simulator')\n",
    "job = execute(qc, backend)\n",
    "result = job.result()\n",
    "state = result.get_statevector()\n",
    "state.draw('latex')"
   ]
  },
  {
   "cell_type": "code",
   "execution_count": null,
   "id": "2e40428a",
   "metadata": {},
   "outputs": [],
   "source": [
    "from qiskit.visualization import plot_bloch_multivector\n",
    "plot_bloch_multivector(result.get_statevector())"
   ]
  },
  {
   "cell_type": "code",
   "execution_count": 25,
   "id": "d5fffbdc",
   "metadata": {},
   "outputs": [],
   "source": [
    "qr = QuantumRegister(2)\n",
    "qc = QuantumCircuit(qr)\n",
    "qc.h(qr[0])\n",
    "qc.cx(0,1)\n",
    "\n",
    "backend = Aer.get_backend('statevector_simulator')\n",
    "job = execute(qc, backend)\n",
    "result = job.result()\n",
    "state = result.get_statevector()"
   ]
  },
  {
   "cell_type": "code",
   "execution_count": null,
   "id": "f91a7f00",
   "metadata": {},
   "outputs": [],
   "source": [
    "qc.draw('mpl')"
   ]
  },
  {
   "cell_type": "code",
   "execution_count": null,
   "id": "45140bf5",
   "metadata": {},
   "outputs": [],
   "source": [
    "state.draw('latex')"
   ]
  },
  {
   "cell_type": "code",
   "execution_count": null,
   "id": "c323f1a4",
   "metadata": {},
   "outputs": [],
   "source": [
    "from qiskit.visualization import plot_bloch_multivector\n",
    "plot_bloch_multivector(result.get_statevector())"
   ]
  },
  {
   "cell_type": "markdown",
   "id": "32ec4179-d16e-46e0-a347-633cf78734cd",
   "metadata": {},
   "source": [
    "## Tworzenie stanu trzy-kubitowego \n",
    "\n",
    "$$\n",
    "\\ket{000}, \\ket{001}, \\ket{010}, \\ket{011}, \\ket{100}, \\ket{101}, \\ket{110}, \\ket{111}$$"
   ]
  },
  {
   "cell_type": "code",
   "execution_count": 29,
   "id": "3c3a37bd-d214-401e-9f08-f5ca2291d441",
   "metadata": {
    "tags": []
   },
   "outputs": [],
   "source": [
    "qr = QuantumRegister(3)\n",
    "qc = QuantumCircuit(qr)\n",
    "# qc.x(qr[0]) \n",
    "# qc.x(qr[1])\n",
    "\n",
    "# klasyczny symulator pozwala zobaczyc stan\n",
    "backend = Aer.get_backend('statevector_simulator')\n",
    "job=execute(qc, backend)\n",
    "result = job.result()\n",
    "state = result.get_statevector()"
   ]
  },
  {
   "cell_type": "markdown",
   "id": "e5316007",
   "metadata": {},
   "source": [
    "Uruchom powyższy kod usuwajac poszczegolne komentarze i sprawdz wynik.\n"
   ]
  },
  {
   "cell_type": "code",
   "execution_count": null,
   "id": "1e4b8364",
   "metadata": {},
   "outputs": [],
   "source": [
    "# uruchom w środowisku IBM Quantum Experience\n",
    "from qiskit_ibm_provider import IBMProvider\n",
    "\n",
    "IBMProvider.save_account(token=MY_API_TOKEN)\n",
    "provider = IBMProvider()\n",
    "\n",
    "# Create a circuit\n",
    "qc = QuantumCircuit(2)\n",
    "qc.h(0)\n",
    "qc.cx(0, 1)\n",
    "qc.measure_all()\n",
    "\n",
    "# Select a backend.\n",
    "backend = provider.get_backend(\"ibmq_qasm_simulator\")\n",
    "\n",
    "# Transpile the circuit\n",
    "transpiled = transpile(qc, backend=backend)\n",
    "\n",
    "# Submit a job.\n",
    "job = backend.run(transpiled)\n",
    "# Get results.\n",
    "print(job.result().get_counts())"
   ]
  },
  {
   "cell_type": "markdown",
   "id": "741347cf",
   "metadata": {},
   "source": [
    "Więcej informacji znajdziesz [tutaj](https://github.com/Qiskit/qiskit-ibm-provider/blob/stable/0.7/docs/tutorials/Migration_Guide_from_qiskit-ibmq-provider.ipynb#)"
   ]
  },
  {
   "cell_type": "code",
   "execution_count": null,
   "id": "e2e67d1f",
   "metadata": {},
   "outputs": [],
   "source": [
    "from qiskit.tools.visualization import circuit_drawer\n",
    "\n",
    "q = QuantumRegister(1)\n",
    "c = ClassicalRegister(1)\n",
    "circuit = QuantumCircuit(q, c)\n",
    "circuit.measure(q, c)\n",
    "circuit_drawer(circuit)"
   ]
  }
 ],
 "metadata": {
  "kernelspec": {
   "display_name": "venv",
   "language": "python",
   "name": "python3"
  },
  "language_info": {
   "codemirror_mode": {
    "name": "ipython",
    "version": 3
   },
   "file_extension": ".py",
   "mimetype": "text/x-python",
   "name": "python",
   "nbconvert_exporter": "python",
   "pygments_lexer": "ipython3",
   "version": "3.12.6"
  },
  "widgets": {
   "application/vnd.jupyter.widget-state+json": {
    "state": {},
    "version_major": 2,
    "version_minor": 0
   }
  }
 },
 "nbformat": 4,
 "nbformat_minor": 5
}
