{
 "cells": [
  {
   "cell_type": "markdown",
   "metadata": {},
   "source": [
    "# Modele uczenia maszynowego\n",
    "\n",
    "Rozwój technologii i powszechna cyfryzacja przyczyniły się do powstania nowego zasobu, jakim są dane. \n",
    "Dane te są generowane i przetwarzane zarówno w sposób ustrukturyzowany, jak i nieustrukturyzowany. \n",
    "Strukturyzacja danych doprowadziła do rozwoju wielu modeli, które dziś ogólnie określamy jako modele uczenia maszynowego (ang. machine learning, ML). \n",
    "Natomiast przetwarzanie danych nieustrukturyzowanych takich jak tekst, obrazy czy wideo, przyczyniło się do rozwoju uczenia głębokiego (ang. deep learning, DL). \n",
    "Oba te podejścia często określane zbiorczo jako sztuczna inteligencja (ang. artificial inteligence, AI), zostały stworzone głównie do rozpoznawania wzorców. \n",
    "Jednak coraz częściej wykorzystywane są również do modelowania i generowania nowych danych. \n",
    "Klasyczny model sztucznej inteligencji możemy wyrazić jako funkcję $f(x;\\theta)$, która zależy zarówno od danych reprezentowanych przez ustrukturyzowaną macierz $x$, jak i od parametrów $\\theta$, których wartości zostają ustalone w procesie uczenia. \n",
    "\n",
    "W uczeniu nadzorowanym posiadamy wartości zmiennej celu dla wygenerowanych danych treningowych.\n",
    "Dwa podstawowe modele nadzorowanego uczenia maszynowego możemy zrealizować jako proste sieci neuronowe.\n",
    "\n",
    "Do wygenerowania kodów użyjemy biblioteki PyTorch\n",
    "\n",
    "## Regresja liniowa\n",
    "\n",
    "Wygenerujemy niezaszumione dane na podstawie wzoru $y = 2 x - 1$. \n",
    "Na podstawie zbioru danych postaramy się oszacować nieznane parametry czyli wyraz przy $x$ ($\\alpha_1 = 2$) i wyraz wolny ($\\alpha_0 = -1$).\n"
   ]
  },
  {
   "cell_type": "code",
   "execution_count": 2,
   "metadata": {},
   "outputs": [
    {
     "data": {
      "text/plain": [
       "[<matplotlib.lines.Line2D at 0x1279dfb90>]"
      ]
     },
     "execution_count": 2,
     "metadata": {},
     "output_type": "execute_result"
    },
    {
     "data": {
      "image/png": "[encoded data removed]",
      "text/plain": [
       "<Figure size 640x480 with 1 Axes>"
      ]
     },
     "metadata": {},
     "output_type": "display_data"
    }
   ],
   "source": [
    "import numpy as np\n",
    "import matplotlib.pyplot as plt\n",
    "\n",
    "# zbior danych\n",
    "x = range(11)\n",
    "y = [2*xi - 1 for xi in x]\n",
    "plt.plot(x, y, 'go', label='True data', alpha=0.5)"
   ]
  },
  {
   "cell_type": "markdown",
   "metadata": {},
   "source": [
    "Model regresji liniowej dla jednej zmiennej można zrealizować jako prostą jednowarstwową sieć neuronową. \n",
    "Cały proces można zrealizować za pomocą obiektu `torch.nn.Linear`"
   ]
  },
  {
   "cell_type": "code",
   "execution_count": 3,
   "metadata": {},
   "outputs": [],
   "source": [
    "import torch\n",
    "\n",
    "class LinearRegression(torch.nn.Module):\n",
    "\n",
    "    def __init__(self, inputSize, outputSize):\n",
    "        super(LinearRegression, self).__init__()\n",
    "        self.layers = torch.nn.Sequential(\n",
    "            torch.nn.Linear(inputSize, outputSize)\n",
    "        ) \n",
    "        \n",
    "    def forward(self, x):\n",
    "        return self.layers(x)"
   ]
  },
  {
   "cell_type": "markdown",
   "metadata": {},
   "source": [
    "Aby nasze dane mogłybyć przeliczane przez bibliotekę PyTorch musimy je przetworzyć na tensory - czyli obiekty z biblioteki PyTorch."
   ]
  },
  {
   "cell_type": "code",
   "execution_count": 4,
   "metadata": {},
   "outputs": [],
   "source": [
    "# dostosowanie do pytorch\n",
    "x = np.array(x, dtype=np.float32)\n",
    "y = np.array(y, dtype=np.float32)\n",
    "\n",
    "X_train = torch.from_numpy(x).view(-1,1)\n",
    "y_train = torch.from_numpy(y).view(-1,1)"
   ]
  },
  {
   "cell_type": "markdown",
   "metadata": {},
   "source": [
    "Uwaga - ponieważ mamy jedną zmienną zawierającą 10 przypadków - potrzebujemy listy składającej się z 10 list jednoelementowych.\n",
    "\n",
    "Możemy utworzyć model i wybrać optymalizator z funkcją kosztu. "
   ]
  },
  {
   "cell_type": "code",
   "execution_count": 5,
   "metadata": {},
   "outputs": [],
   "source": [
    "# obiekt liniowej regresji w wersji sieci nn\n",
    "lr_model = LinearRegression(1,1)\n",
    "\n",
    "criterion = torch.nn.MSELoss()\n",
    "optimizer = torch.optim.SGD(lr_model.parameters(), lr=0.01)"
   ]
  },
  {
   "cell_type": "markdown",
   "metadata": {},
   "source": [
    "Możemy sprawdzić, że nasz model będzie dostrajał 2 parametry."
   ]
  },
  {
   "cell_type": "code",
   "execution_count": 6,
   "metadata": {},
   "outputs": [
    {
     "name": "stdout",
     "output_type": "stream",
     "text": [
      "liczba trenowalnych parametrów: 2\n"
     ]
    }
   ],
   "source": [
    "num_params = sum(p.numel() for p in lr_model.parameters() if p.requires_grad)\n",
    "print(f\"liczba trenowalnych parametrów: {num_params}\")"
   ]
  },
  {
   "cell_type": "markdown",
   "metadata": {},
   "source": [
    "Parametry te w początkowej inicjalizacji mają następujące wartości:"
   ]
  },
  {
   "cell_type": "code",
   "execution_count": 7,
   "metadata": {},
   "outputs": [
    {
     "name": "stdout",
     "output_type": "stream",
     "text": [
      "weight: tensor([[-0.1064]])\n",
      "bias: tensor([-0.0780])\n"
     ]
    }
   ],
   "source": [
    "for layer in lr_model.layers:\n",
    "    if isinstance(layer, torch.nn.Linear):\n",
    "        print(f\"weight: {layer.state_dict()['weight']}\")\n",
    "        print(f\"bias: {layer.state_dict()['bias']}\")\n"
   ]
  },
  {
   "cell_type": "code",
   "execution_count": 8,
   "metadata": {},
   "outputs": [
    {
     "name": "stdout",
     "output_type": "stream",
     "text": [
      "epoch: 050, loss = 0.24\n",
      "epoch: 100, loss = 0.14\n",
      "epoch: 150, loss = 0.08\n",
      "epoch: 200, loss = 0.04\n",
      "epoch: 250, loss = 0.03\n",
      "epoch: 300, loss = 0.01\n",
      "epoch: 350, loss = 0.01\n",
      "epoch: 400, loss = 0.00\n"
     ]
    }
   ],
   "source": [
    "epochs = 400\n",
    "# petla uczaca \n",
    "for epoch in range(epochs):\n",
    "    lr_model.train() # etap trenowania \n",
    "\n",
    "    y_pred = lr_model(X_train)\n",
    "    loss = criterion(y_pred, y_train)\n",
    "\n",
    "    optimizer.zero_grad()\n",
    "    loss.backward()\n",
    "    optimizer.step()\n",
    "    \n",
    "    if (epoch+1) % 50 == 0:\n",
    "        print(f'epoch: {epoch+1:03d}, loss = {loss.item():.2f}')\n",
    " \n",
    "    lr_model.eval() # etap ewaluacji modelu\n",
    "\n",
    "# po treningu jeszcze raz generujemy predykcje\n",
    "lr_model.eval()\n",
    "with torch.no_grad():\n",
    "    predicted = lr_model(X_train)"
   ]
  },
  {
   "cell_type": "markdown",
   "metadata": {},
   "source": [
    "Otrzymane parametry po uczeniu "
   ]
  },
  {
   "cell_type": "code",
   "execution_count": 9,
   "metadata": {},
   "outputs": [
    {
     "name": "stdout",
     "output_type": "stream",
     "text": [
      "po procesie uczenia waga: Parameter containing:\n",
      "tensor([[1.9817]], requires_grad=True) oraz bias Parameter containing:\n",
      "tensor([-0.8730], requires_grad=True)\n"
     ]
    }
   ],
   "source": [
    "print(f\"po procesie uczenia waga: {lr_model.layers[0].weight} oraz bias {lr_model.layers[0].bias}\")"
   ]
  },
  {
   "cell_type": "markdown",
   "metadata": {},
   "source": [
    "Dopasowanie modelu do danych można przedstawić na wykresie"
   ]
  },
  {
   "cell_type": "code",
   "execution_count": 10,
   "metadata": {},
   "outputs": [
    {
     "data": {
      "image/png": "[encoded data removed]",
      "text/plain": [
       "<Figure size 640x480 with 1 Axes>"
      ]
     },
     "metadata": {},
     "output_type": "display_data"
    }
   ],
   "source": [
    "plt.clf()\n",
    "plt.plot(X_train, y_train, 'go', label='True data', alpha=0.5)\n",
    "plt.plot(X_train, predicted, '--', label='Predictions', alpha=0.5)\n",
    "plt.legend(loc='best')\n",
    "plt.show()"
   ]
  },
  {
   "cell_type": "markdown",
   "metadata": {},
   "source": [
    "## Regresja logistyczna\n",
    "\n",
    "W przypadku procesu klasyfikacji danych do numerycznego wyniku musimy dodać funkcję aktywacji - sigmoid $\\sigma$, która pozwoli nam wygenerować prawdopodobieństwo otrzymania klasy 1. \n",
    "\n",
    "Dane wygenerujemy na podstawie pakietu scikit-learn \n"
   ]
  },
  {
   "cell_type": "code",
   "execution_count": 12,
   "metadata": {},
   "outputs": [],
   "source": [
    "from sklearn.datasets import make_classification\n",
    "import numpy as np\n",
    "\n",
    "# prepare dataset\n",
    "X, y = make_classification(n_samples=10**4, n_features=10 ,random_state=42)"
   ]
  },
  {
   "cell_type": "markdown",
   "metadata": {},
   "source": [
    "Model regresji logistycznej możemy zapisać jako sieć neuronowa"
   ]
  },
  {
   "cell_type": "code",
   "execution_count": 13,
   "metadata": {},
   "outputs": [],
   "source": [
    "import torch\n",
    "\n",
    "class LogisticRegression(torch.nn.Module):\n",
    "\n",
    "    def __init__(self, inputSize, outputSize):\n",
    "        super(LogisticRegression, self).__init__()\n",
    "        self.layers = torch.nn.Sequential(\n",
    "            torch.nn.Linear(inputSize, outputSize),\n",
    "            torch.nn.Sigmoid()\n",
    "        )\n",
    "\n",
    "    def forward(self, x):\n",
    "        logits = self.layers(x)\n",
    "        return logits"
   ]
  },
  {
   "cell_type": "markdown",
   "metadata": {},
   "source": [
    "Podobnie jak w przypadku regresji liniowej musimy przetworzyć nasze dane do obiektów torch. "
   ]
  },
  {
   "cell_type": "code",
   "execution_count": 14,
   "metadata": {},
   "outputs": [],
   "source": [
    "X_train = torch.from_numpy(X.astype(np.float32))\n",
    "y_train = torch.from_numpy(y.astype(np.float32))\n",
    "y_train = y_train.view(y_train.shape[0], 1)"
   ]
  },
  {
   "cell_type": "code",
   "execution_count": 15,
   "metadata": {},
   "outputs": [
    {
     "name": "stdout",
     "output_type": "stream",
     "text": [
      "epoch: 50, loss = 0.5021\n",
      "epoch: 100, loss = 0.4391\n",
      "epoch: 150, loss = 0.4031\n",
      "epoch: 200, loss = 0.3801\n",
      "epoch: 250, loss = 0.3642\n",
      "epoch: 300, loss = 0.3525\n",
      "epoch: 350, loss = 0.3436\n",
      "epoch: 400, loss = 0.3365\n",
      "epoch: 450, loss = 0.3308\n",
      "epoch: 500, loss = 0.3261\n",
      "accuracy = 0.8850\n",
      "predykcja dla wiersza 0:tensor([0.8551]), wartosc prawdziwa: tensor([1.])\n"
     ]
    }
   ],
   "source": [
    "model = LogisticRegression(X_train.shape[1], y_train.shape[1])\n",
    "\n",
    "learningRate = 0.01\n",
    "criterion = torch.nn.BCELoss()\n",
    "optimizer = torch.optim.SGD(model.parameters(), lr=learningRate)\n",
    "\n",
    "# petla uczaca \n",
    "num_epochs = 500\n",
    "\n",
    "for epoch in range(num_epochs):\n",
    "    # forward pass and loss\n",
    "    model.train()\n",
    "    y_predicted = model(X_train)\n",
    "    loss = criterion(y_predicted, y_train)\n",
    "    \n",
    "    loss.backward()\n",
    "    optimizer.step()\n",
    "    optimizer.zero_grad()\n",
    "    model.eval()\n",
    "\n",
    "    if (epoch+1) % 50 == 0:\n",
    "        print(f'epoch: {epoch+1}, loss = {loss.item():.4f}')\n",
    "\n",
    "\n",
    "\n",
    "model.eval()\n",
    "with torch.no_grad():\n",
    "    y_predicted = model(X_train)  # no need to call model.forward()\n",
    "    y_predicted_cls = y_predicted.round()   # round off to nearest class\n",
    "    acc = y_predicted_cls.eq(y_train).sum() / float(y_train.shape[0])  # accuracy\n",
    "    print(f'accuracy = {acc:.4f}')\n",
    "    print(f\"predykcja dla wiersza 0:{y_predicted[0]}, wartosc prawdziwa: {y_train[0]}\")"
   ]
  }
 ],
 "metadata": {
  "kernelspec": {
   "display_name": "venv",
   "language": "python",
   "name": "python3"
  },
  "language_info": {
   "codemirror_mode": {
    "name": "ipython",
    "version": 3
   },
   "file_extension": ".py",
   "mimetype": "text/x-python",
   "name": "python",
   "nbconvert_exporter": "python",
   "pygments_lexer": "ipython3",
   "version": "3.11.11"
  }
 },
 "nbformat": 4,
 "nbformat_minor": 2
}
