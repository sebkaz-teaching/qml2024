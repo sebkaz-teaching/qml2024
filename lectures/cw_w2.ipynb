{
 "cells": [
  {
   "cell_type": "markdown",
   "metadata": {},
   "source": [
    "# modele uczenia maszynowego\n",
    "\n",
    "## PyTorch Regresja liniowa"
   ]
  },
  {
   "cell_type": "code",
   "execution_count": 1,
   "metadata": {},
   "outputs": [
    {
     "name": "stdout",
     "output_type": "stream",
     "text": [
      "LinearRegression(\n",
      "  (layers): Sequential(\n",
      "    (0): Linear(in_features=1, out_features=1, bias=True)\n",
      "  )\n",
      ")\n",
      "liczba trenowalnych parametrów: 2\n",
      "epoch: 050, loss = 0.85\n",
      "epoch: 100, loss = 0.48\n",
      "epoch: 150, loss = 0.28\n",
      "epoch: 200, loss = 0.16\n",
      "epoch: 250, loss = 0.09\n",
      "epoch: 300, loss = 0.05\n",
      "epoch: 350, loss = 0.03\n",
      "epoch: 400, loss = 0.02\n",
      "Parameter containing:\n",
      "tensor([[1.9655]], requires_grad=True) Parameter containing:\n",
      "tensor([-0.7603], requires_grad=True)\n"
     ]
    },
    {
     "data": {
      "image/png": "[encoded data removed]",
      "text/plain": [
       "<Figure size 640x480 with 1 Axes>"
      ]
     },
     "metadata": {},
     "output_type": "display_data"
    }
   ],
   "source": [
    "import torch\n",
    "import numpy as np\n",
    "import matplotlib.pyplot as plt\n",
    "\n",
    "class LinearRegression(torch.nn.Module):\n",
    "\n",
    "    def __init__(self, inputSize, outputSize):\n",
    "        super(LinearRegression, self).__init__()\n",
    "        self.layers = torch.nn.Sequential(\n",
    "            torch.nn.Linear(inputSize, outputSize)\n",
    "        ) \n",
    "        \n",
    "    def forward(self, x):\n",
    "        return self.layers(x)\n",
    "\n",
    "# zbior danych\n",
    "x = range(11)\n",
    "y = [2*xi - 1 for xi in x]\n",
    "\n",
    "# dostosowanie do pytorch\n",
    "x = np.array(x, dtype=np.float32)\n",
    "y = np.array(y, dtype=np.float32)\n",
    "\n",
    "X_train = torch.from_numpy(x).view(-1,1)\n",
    "y_train = torch.from_numpy(y).view(-1,1)\n",
    "\n",
    "# obiekt liniowej regresji w wersji sieci nn\n",
    "lr_model = LinearRegression(1,1)\n",
    "\n",
    "criterion = torch.nn.MSELoss()\n",
    "optimizer = torch.optim.SGD(lr_model.parameters(), lr=0.01)\n",
    "\n",
    "\n",
    "print(lr_model)\n",
    "num_params = sum(p.numel() for p in lr_model.parameters() if p.requires_grad)\n",
    "print(f\"liczba trenowalnych parametrów: {num_params}\")\n",
    "\n",
    "epochs = 400\n",
    "# petla uczaca \n",
    "for epoch in range(epochs):\n",
    "    lr_model.train()\n",
    "\n",
    "    y_pred = lr_model(X_train)\n",
    "    loss = criterion(y_pred, y_train)\n",
    "\n",
    "    optimizer.zero_grad()\n",
    "    loss.backward()\n",
    "    optimizer.step()\n",
    "    \n",
    "    if (epoch+1) % 50 == 0:\n",
    "        print(f'epoch: {epoch+1:03d}, loss = {loss.item():.2f}')\n",
    " \n",
    "    lr_model.eval()\n",
    "\n",
    "# po treningu jeszcze raz generujemy predykcje\n",
    "lr_model.eval()\n",
    "with torch.no_grad():\n",
    "    predicted = lr_model(X_train)\n",
    "\n",
    "print(lr_model.layers[0].weight, lr_model.layers[0].bias)\n",
    "\n",
    "plt.clf()\n",
    "plt.plot(X_train, y_train, 'go', label='True data', alpha=0.5)\n",
    "plt.plot(X_train, predicted, '--', label='Predictions', alpha=0.5)\n",
    "plt.legend(loc='best')\n",
    "plt.show()"
   ]
  },
  {
   "cell_type": "markdown",
   "metadata": {},
   "source": [
    "## PyTorch Regresja logistyczna"
   ]
  },
  {
   "cell_type": "code",
   "execution_count": 2,
   "metadata": {},
   "outputs": [
    {
     "name": "stdout",
     "output_type": "stream",
     "text": [
      "epoch: 50, loss = 0.5996\n",
      "epoch: 100, loss = 0.5019\n",
      "epoch: 150, loss = 0.4471\n",
      "epoch: 200, loss = 0.4128\n",
      "epoch: 250, loss = 0.3894\n",
      "epoch: 300, loss = 0.3726\n",
      "epoch: 350, loss = 0.3599\n",
      "epoch: 400, loss = 0.3500\n",
      "epoch: 450, loss = 0.3422\n",
      "epoch: 500, loss = 0.3357\n",
      "accuracy = 0.8820\n",
      "predykcja dla wiersza 0:tensor([0.8049]), wartosc prawdziwa: tensor([1.])\n"
     ]
    }
   ],
   "source": [
    "import torch\n",
    "import numpy as np\n",
    "from sklearn.datasets import make_classification\n",
    "\n",
    "class LogisticRegression(torch.nn.Module):\n",
    "\n",
    "    def __init__(self, inputSize, outputSize):\n",
    "        super(LogisticRegression, self).__init__()\n",
    "        self.layers = torch.nn.Sequential(\n",
    "            torch.nn.Linear(inputSize, outputSize),\n",
    "            torch.nn.Sigmoid()\n",
    "        )\n",
    "\n",
    "    def forward(self, x):\n",
    "        logits = self.layers(x)\n",
    "        return logits\n",
    "\n",
    "\n",
    "# prepare dataset\n",
    "X, y = make_classification(n_samples=10**4, n_features=10 ,random_state=42)\n",
    "\n",
    "X_train = torch.from_numpy(X.astype(np.float32))\n",
    "y_train = torch.from_numpy(y.astype(np.float32))\n",
    "\n",
    "y_train = y_train.view(y_train.shape[0], 1)\n",
    "\n",
    "model = LogisticRegression(X_train.shape[1], y_train.shape[1])\n",
    "\n",
    "learningRate = 0.01\n",
    "criterion = torch.nn.BCELoss()\n",
    "optimizer = torch.optim.SGD(model.parameters(), lr=learningRate)\n",
    "\n",
    "# petla uczaca \n",
    "num_epochs = 500\n",
    "\n",
    "for epoch in range(num_epochs):\n",
    "    # forward pass and loss\n",
    "    model.train()\n",
    "    y_predicted = model(X_train)\n",
    "    loss = criterion(y_predicted, y_train)\n",
    "    \n",
    "    loss.backward()\n",
    "    optimizer.step()\n",
    "    optimizer.zero_grad()\n",
    "    model.eval()\n",
    "\n",
    "    if (epoch+1) % 50 == 0:\n",
    "        print(f'epoch: {epoch+1}, loss = {loss.item():.4f}')\n",
    "\n",
    "\n",
    "\n",
    "model.eval()\n",
    "with torch.no_grad():\n",
    "    y_predicted = model(X_train)  # no need to call model.forward()\n",
    "    y_predicted_cls = y_predicted.round()   # round off to nearest class\n",
    "    acc = y_predicted_cls.eq(y_train).sum() / float(y_train.shape[0])  # accuracy\n",
    "    print(f'accuracy = {acc:.4f}')\n",
    "    print(f\"predykcja dla wiersza 0:{y_predicted[0]}, wartosc prawdziwa: {y_train[0]}\")"
   ]
  }
 ],
 "metadata": {
  "kernelspec": {
   "display_name": "venv",
   "language": "python",
   "name": "python3"
  },
  "language_info": {
   "codemirror_mode": {
    "name": "ipython",
    "version": 3
   },
   "file_extension": ".py",
   "mimetype": "text/x-python",
   "name": "python",
   "nbconvert_exporter": "python",
   "pygments_lexer": "ipython3",
   "version": "3.11.11"
  }
 },
 "nbformat": 4,
 "nbformat_minor": 2
}
