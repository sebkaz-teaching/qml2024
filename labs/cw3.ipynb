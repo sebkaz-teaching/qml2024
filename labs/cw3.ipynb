{
 "cells": [
  {
   "cell_type": "markdown",
   "metadata": {},
   "source": [
    "## Proces optymalizacji dla prostych obwodów kwantowych\n",
    "\n",
    "Znasz już bramkę Hadamarda, bramkę $X$ oraz bramki rotacji ($R_x$, $R_y$, $R_z$)\n",
    "\n",
    "Dla przypomnienia : \n",
    "\n",
    "Bramka $X$: \n",
    "\n",
    "$$\n",
    " \\textbf{X} = \\begin{bmatrix} 0 \\,\\, 1 \\\\ 1 \\,\\, 0 \\end{bmatrix} \n",
    " $$\n",
    "\n",
    "$$ \n",
    "\\textbf{X} \\ket{0} = \\begin{bmatrix} 0\\,\\, 1 \\\\ 1 \\, 0 \\end{bmatrix} \\begin{bmatrix} 1 \\\\ 0 \\end{bmatrix} =  \\begin{bmatrix} 0 \\\\ 1 \\end{bmatrix} = \\ket{1} \n",
    "$$\n",
    "oraz\n",
    "$$\n",
    "\\textbf{X} \\ket{0} = \\begin{bmatrix} 0\\,\\, 1 \\\\ 1 \\, 0 \\end{bmatrix} \\begin{bmatrix} 0 \\\\ 1 \\end{bmatrix} =  \\begin{bmatrix} 1 \\\\ 0 \\end{bmatrix} = \\ket{0} \n",
    " $$\n",
    "\n",
    "\n",
    "Bramka $H$: \n",
    "\n",
    "$$\n",
    "\\textbf{H}= \\frac{1}{\\sqrt{2}}\\begin{bmatrix} 1\\,\\,\\,\\,\\,\\,\\, 1 \\\\ 1 \\, -1 \\end{bmatrix} \n",
    "$$\n",
    "\n",
    "dla której \n",
    "\n",
    "$$ \n",
    "\\textbf{H} \\ket{0} = \\frac{1}{\\sqrt{2}}\\begin{bmatrix} 1\\,\\,\\,\\,\\,\\,\\, 1 \\\\ 1 \\, -1 \\end{bmatrix} \\begin{bmatrix} 1 \\\\ 0 \\end{bmatrix} = \\frac{1}{\\sqrt{2}} \\left( \\ket{0} + \\ket{1} \\right) = \\ket{+} \n",
    "$$\n",
    "oraz\n",
    "$$\n",
    " \\textbf{H} \\ket{1} = \\frac{1}{\\sqrt{2}}\\begin{bmatrix} 1\\,\\,\\,\\,\\,\\,\\, 1 \\\\ 1 \\, -1 \\end{bmatrix}  \\begin{bmatrix} 0 \\\\ 1 \\end{bmatrix} = \\begin{bmatrix} 0 \\\\ 1 \\end{bmatrix} = \\frac{1}{\\sqrt{2}} \\left( \\ket{0} - \\ket{1} \\right) = \\ket{-}\n",
    " $$"
   ]
  },
  {
   "cell_type": "markdown",
   "metadata": {},
   "source": [
    "## Zadanie - napisz jedno kubitowy obwód realizujący bit losowy.\n",
    "\n",
    "klasycznie \n",
    "```python\n",
    "# generator liczb losowych\n",
    "from random import randrange\n",
    "''.join([str(randrange(2)) for i in range(8)])\n",
    "\n",
    "```\n",
    "lub\n",
    "```python\n",
    "# mozna takze zrealizowac jako rzut monetą \n",
    "\n",
    "import random\n",
    "for n in range(5):\n",
    "    if random.random()<0.5:       #if the random number is less than 0.5 print heads\n",
    "        print('HEADS')\n",
    "    else:\n",
    "        print('TAILS')\n",
    "```\n",
    "\n",
    "KWANTOWO\n",
    "\n",
    "- Użyj `default.qubit` jako klasyczny symulator w funkcji `device`\n",
    "- zmień funkcję `qc` w obwód kwantowy korzystając z dekoratora `@qml.qnode`\n",
    "- zdefinuj funkcję `qc` z jednym kubitem\n",
    "- na kubicie wykorzystaj bramkę Hadamarda\n",
    "\n",
    "\n",
    "- wyświetl stan po pomiarze pojedynczego kubitu\n",
    "\n",
    "- wyświetl prawdopodobieństwa otrzymania stanu 0 i 1 \n",
    "\n",
    "- uruchom obwód 3 razy (do dev dodaj parametr , shots=3) i sprawdź wyniki otrzymywane przez metodę `qml.counts()` [link](https://docs.pennylane.ai/en/stable/code/api/pennylane.counts.html)\n",
    "\n",
    "- uruchom powyzszą prcedurę 100 razy \n",
    "\n",
    "Do jakiego zdarzenia losowego podobne są wyniki? \n",
    "\n",
    "\n",
    "## Zadanie - Losowy bajt \n",
    "\n",
    "- bajt to 8 bitów - jaki zakres wartości jesteś w stanie przechowywać w 8 kubitach ? \n",
    "\n",
    "- wygeneruj losowy bajt z wykorzystaniem tylko bramki X\n",
    "```python\n",
    "if randrange(2) == 0:\n",
    "        qc.x(i)\n",
    "```\n",
    "- wygeneruj losowy bajt z wykorzystaniem bramek hadamarda\n",
    "\n",
    "- wygeneruj 10 prób w pełni losowego bajtu - odkoduj wyniki w systemie int \n",
    "\n",
    "- oblicz różnicę dwóch bajtów dla których pierwsze cztery bity to 0, piąty bit pierwszego bajtu to 0 a drugiego bajtu to 1 . pozostałe bity są równe 1\n",
    "\n",
    "\n",
    "\n"
   ]
  },
  {
   "cell_type": "markdown",
   "metadata": {},
   "source": [
    "## Losowa liczba w zakresie 0-15\n",
    "- Za pomocą odpowiedniego obwodu kwantowego wylosuj liczbę z zakresu 0-15 \n",
    "\n",
    "- Wykorzystaj 1000 wykonań modelu i narysuj histogram wyników dla poszczególnych liczb 0- 15 "
   ]
  },
  {
   "cell_type": "markdown",
   "metadata": {},
   "source": [
    "## Zadanie 3\n",
    "\n",
    "Rozszerz wygenerowany obwód dla losowego bitu i dodaj parametryzowaną bramkę $R_x$ z kątem ustawionym jako `pi/4`\n",
    "\n",
    "Oblicz wartość oczekiwaną operatora $<\\sigma_z>$ wykorzystując `qml.expval(qml.PauliZ(0))`\n"
   ]
  },
  {
   "cell_type": "markdown",
   "metadata": {},
   "source": [
    "\n",
    "Bramka (i operator) Z, w bazie obliczeniowej dany jest macierzą:\n",
    "$$\n",
    " \\textbf{Z} = \\begin{bmatrix} 1 \\,\\,\\,\\,\\,\\,\\,\\, 0 \\\\ 0 \\,\\, -1 \\end{bmatrix} \n",
    " $$\n",
    "\n",
    "Operator ten mierzy różnicę pomiędzy prawdopodobieństwem, że kubit jest w stanie $\\ket{0}$ a prawdopodobieństwem, że jest w stanie $\\ket{1}$\n",
    "\n",
    "W ogólności wartość oczekiwana (wartość średnia wyniku pomiaru w bazie operatora Z) dana jest wzorem: \n",
    "$$\n",
    " \\textbf{<Z>} = \\bra{\\psi} \\textbf{Z} \\ket{\\psi} \n",
    "$$\n",
    "\n",
    "Niech \n",
    "$$\n",
    "\\ket{\\psi} = \\alpha\\ket{0} + \\beta\\ket{1} \n",
    "$$\n",
    "wtedy \n",
    "$$\n",
    "\\bra{\\psi} = \\alpha^*\\bra{0} + \\beta^*\\bra{1} \n",
    "$$\n",
    "\n",
    "Możemy obliczyć: \n",
    "$$\n",
    "\\bra{\\psi} \\textbf{Z} \\ket{\\psi}  = (\\alpha^*\\bra{0} + \\beta^*\\bra{1} ) \\,\\,\\, Z \\,\\,\\,(\\alpha\\ket{0} + \\beta\\ket{1}) = |\\alpha|^2 - |\\beta|^2\n",
    "$$\n",
    "Czyli dla kubitu w stanie $\\ket{0}$ \n",
    "$$\n",
    " \\textbf{<Z>} = 1  \n",
    "$$\n",
    "Dla kubitu w stanie $\\ket{1}$\n",
    "$$\n",
    " \\textbf{<Z>} = -1  \n",
    "$$\n",
    "Dla kubitu w superpozycji $\\ket{0} +\\ket{1}$\n",
    "$$\n",
    " \\textbf{<Z>} = 0  \n",
    "$$"
   ]
  },
  {
   "cell_type": "markdown",
   "metadata": {},
   "source": [
    "## Gra w obracanie monety\n",
    "\n",
    "Wykorzystując powyżej zdefiniowane bramki możemy zrealizowa następującą grę:\n",
    "\n",
    "> W grze bierze udział dwóch graczy. \n",
    "Gracze dysponują monetą, której nie widzą w trakcie gry (np. jest zamknięta w pudełku). \n",
    "Natomiast wiedzą, że początkowo moneta ułożona jest orłem do góry (w stanie $\\ket{0}$)\n",
    "> Gra polega na wykonaniu trzech ruchów na przemian. \n",
    "Każdy ruch polega na odwróceniu monety bądź pozostawieniu jej w takim stanie w jakim była. \n",
    "Gracze nie wiedzą jaki ruch wykonuje przeciwnik. \n",
    "Po ostatnim ruchu pudełko zostaje otwarte i gracze sprawdzają w jakiej pozycji jest moneta. \n",
    "Pierwszy gracz wygrywa jeśli moneta jest w pozycji orła, a drugi jeśli przeciwnie. \n",
    "\n",
    "Szansa wygranej wynosi dla każdego $50\\%$ i jak można sprawdzic nie istnieje strategia wygrywająca.\n",
    "\n",
    "Zweryfikuj powyższy wynik wykorzystując obwód kwantowy.\n",
    "\n",
    "```python\n",
    "def klasycze_strategie():\n",
    "    wyniki = []\n",
    "    for ruch_1 in ['I','X']:\n",
    "        for ruch_2 in ['I','X']:\n",
    "            for ruch_3 in ['I','X']:\n",
    "                strategia = ruch_1 + ruch_2 + ruch_3\n",
    "                ob = obwod(strategia)\n",
    "                stats = sedzia(ob())\n",
    "                wyniki.append((strategia, stats))\n",
    "    return wyniki\n",
    "\n",
    "```\n",
    "Utwórz odpowiedni obwód parametryzowany stringiem \"strategia\" oraz dodaj funkcję sędziego. "
   ]
  },
  {
   "cell_type": "markdown",
   "metadata": {},
   "source": [
    "## Zadanie - a co jeśli zamienimy monetę na kubit?\n",
    "\n",
    "Możliwe operacje pozostawienia kubitu w takim samym stanie - bramka I, zmiany stanu na przeciwny bramka X.\n",
    "\n",
    "Czyli pierwszy gracz ustala pierwszą bramkę, drugi drugą i ponownie pierwszy trzecią. \n",
    "Otwarcie pudełka to pomiar stanu kubitu. \n",
    "\n",
    "> Przeanalizuj wynik dla sekwencji I X I\n",
    "\n",
    "A co jeśli pierwszy gracz wie, że działa na kubicie? \n",
    "\n",
    "> Czy może sprawic on, że  wygra zawsze? (skoro wie, że działa na kubicie może użyc innych bramek) \n",
    "\n",
    "zmodyfikuj kod obwodu i sprawdź strategię w której pierwszy gracz zawsze użyje dwóch bramek Hadamarda.\n",
    "\n",
    "```python\n",
    "\n",
    "def kwantowa_strategia():\n",
    "    wyniki = []\n",
    "    for ruch_1 in ['H']:\n",
    "        for ruch_2 in ['I','X']:\n",
    "            for ruch_3 in ['H']:\n",
    "                strategia = ruch_1 + ruch_2 + ruch_3\n",
    "                ob = obwod(strategia)\n",
    "                stats = sedzia(ob())\n",
    "                wyniki.append((strategia, stats))\n",
    "    return wyniki\n",
    "\n",
    "```"
   ]
  },
  {
   "cell_type": "markdown",
   "metadata": {},
   "source": [
    "## Zadanie -  Obwód kwantowy z optymalizacją\n",
    "\n",
    "- Napisz nowy obwód kwantowy, który zawierać będzie tylko bramkę $R_X$ dla dowolnego parametru $\\theta$\n",
    "- oblicz i uzasadnij, że wartość oczekiwana dla stanu $\\ket{\\psi} = R_X \\, \\ket{0}$ \n",
    "$$<Z> = cos^2(\\theta /2)- sin^2(\\theta /2) = cos(\\theta)$$\n",
    "\n",
    "\n",
    "Załóżmy, że nasz problem obliczeniowy sprowadza się do wygenerowania wartości oczekiwanej o wartości 0.5. \n",
    "\n",
    "$$\n",
    " \\textbf{<Z>} = \\bra{\\psi} \\textbf{Z} \\ket{\\psi} = 0.5\n",
    " $$\n",
    "\n",
    " \n",
    "\n",
    "Napisz program znajdujący rozwiązanie - szukający wagę $\\theta$ dla naszego obwodu\n",
    "\n",
    "- Zdefiniuj funkcję kosztu, którą bedziemy minimalizować $(Y - y)^2$\n",
    "- zainicjuj rozwiązanie $theta=0.01$ i przypisz do tablicy array `np.array(0.01, requires_grad=True)`\n",
    "- Jako opt wybierz spadek po gradiencie : opt = qml.GradientDescentOptimizer(stepsize=0.1)\n",
    "- uzyj poniższego kodu do wygenerowania pętli obiczeń \n",
    "\n",
    "```python\n",
    "\n",
    "epochs = 100\n",
    "\n",
    "for epoch in range(epochs):\n",
    "    theta = opt.step(cost_fn, theta)\n",
    "\n",
    "    if epoch % 10 == 0:\n",
    "        print(f\"epoka: {epoch}, theta: {theta}, koszt: {cost_fn(theta)}\")\n",
    "```"
   ]
  },
  {
   "cell_type": "markdown",
   "metadata": {},
   "source": [
    "## Stany splątane \n"
   ]
  },
  {
   "cell_type": "code",
   "execution_count": 6,
   "metadata": {},
   "outputs": [
    {
     "data": {
      "text/plain": [
       "{'00': tensor(41, requires_grad=True), '11': tensor(59, requires_grad=True)}"
      ]
     },
     "execution_count": 6,
     "metadata": {},
     "output_type": "execute_result"
    }
   ],
   "source": [
    "import pennylane as qml\n",
    "from pennylane import numpy as np \n",
    "\n",
    "dev = qml.device('default.qubit', wires=2, shots=100)\n",
    "\n",
    "@qml.qnode(dev)\n",
    "def qc():\n",
    "    qml.Hadamard(wires=0)\n",
    "    qml.CNOT(wires=[0,1])\n",
    "    #return qml.state()\n",
    "    return qml.counts()\n",
    "\n",
    "qc()"
   ]
  },
  {
   "cell_type": "code",
   "execution_count": 9,
   "metadata": {},
   "outputs": [
    {
     "data": {
      "text/plain": [
       "{'01': tensor(50, requires_grad=True), '10': tensor(50, requires_grad=True)}"
      ]
     },
     "execution_count": 9,
     "metadata": {},
     "output_type": "execute_result"
    }
   ],
   "source": [
    "import pennylane as qml\n",
    "from pennylane import numpy as np \n",
    "\n",
    "dev = qml.device('default.qubit', wires=2, shots=100)\n",
    "\n",
    "@qml.qnode(dev)\n",
    "def qc():\n",
    "    qml.Hadamard(wires=0)\n",
    "    qml.CNOT(wires=[0,1])\n",
    "    qml.X(wires=1)\n",
    "    #return qml.state()\n",
    "    return qml.counts()\n",
    "\n",
    "qc()"
   ]
  },
  {
   "cell_type": "code",
   "execution_count": 10,
   "metadata": {},
   "outputs": [
    {
     "data": {
      "text/plain": [
       "{'00': tensor(50, requires_grad=True), '11': tensor(50, requires_grad=True)}"
      ]
     },
     "execution_count": 10,
     "metadata": {},
     "output_type": "execute_result"
    }
   ],
   "source": [
    "import pennylane as qml\n",
    "from pennylane import numpy as np \n",
    "\n",
    "dev = qml.device('default.qubit', wires=2, shots=100)\n",
    "\n",
    "@qml.qnode(dev)\n",
    "def qc():\n",
    "    qml.Hadamard(wires=0)\n",
    "    qml.CNOT(wires=[0,1])\n",
    "    qml.Z(wires=1)\n",
    "    #return qml.state()\n",
    "    return qml.counts()\n",
    "\n",
    "qc()"
   ]
  },
  {
   "cell_type": "code",
   "execution_count": 11,
   "metadata": {},
   "outputs": [
    {
     "data": {
      "text/plain": [
       "{'01': tensor(53, requires_grad=True), '10': tensor(47, requires_grad=True)}"
      ]
     },
     "execution_count": 11,
     "metadata": {},
     "output_type": "execute_result"
    }
   ],
   "source": [
    "import pennylane as qml\n",
    "from pennylane import numpy as np \n",
    "\n",
    "dev = qml.device('default.qubit', wires=2, shots=100)\n",
    "\n",
    "@qml.qnode(dev)\n",
    "def qc():\n",
    "    qml.Hadamard(wires=0)\n",
    "    qml.CNOT(wires=[0,1])\n",
    "    qml.X(wires=1)\n",
    "    qml.Z(wires=1)\n",
    "    #return qml.state()\n",
    "    return qml.counts()\n",
    "\n",
    "qc()"
   ]
  },
  {
   "cell_type": "markdown",
   "metadata": {},
   "source": [
    "Coś dziwnego "
   ]
  },
  {
   "cell_type": "code",
   "execution_count": 18,
   "metadata": {},
   "outputs": [
    {
     "name": "stdout",
     "output_type": "stream",
     "text": [
      "wynik 1+1 = 2\n"
     ]
    }
   ],
   "source": [
    "import pennylane as qml\n",
    "from pennylane import numpy as np \n",
    "\n",
    "dev = qml.device('default.qubit', wires=4, shots=1)\n",
    "\n",
    "@qml.qnode(dev)\n",
    "def qc():\n",
    "    qml.X(wires=0)\n",
    "    qml.X(wires=1)\n",
    "    qml.CNOT([0,1])\n",
    "    qml.CNOT([0,2])\n",
    "    qml.Toffoli([0,1,3])\n",
    "    return qml.counts(wires=[2,3])\n",
    "\n",
    "qc()\n",
    "\n",
    "print(\"wynik 1+1 =\",int('10', 2))"
   ]
  },
  {
   "cell_type": "markdown",
   "metadata": {},
   "source": [
    "## Modele klasyfikacji\n",
    "\n",
    "Dane Titanic \n",
    "\n",
    "1. Wygeneruj model na bazie jednokubitowego obwodu kwantowego, który dla każdego wiersza danych generuje wynik 0 \n",
    "2. Utwórz model na bazie jednokubitowego obwody kwantowego, który dla każdego wiersza danych generuje wynik 1\n",
    "3. Utwórz model na bazie jednokubitowego obwodu kwantowego, który zwraca losową wartość 0 lub 1 z prawdopodobienstwem 1/2.\n"
   ]
  },
  {
   "cell_type": "markdown",
   "metadata": {},
   "source": []
  }
 ],
 "metadata": {
  "kernelspec": {
   "display_name": "venv",
   "language": "python",
   "name": "python3"
  },
  "language_info": {
   "codemirror_mode": {
    "name": "ipython",
    "version": 3
   },
   "file_extension": ".py",
   "mimetype": "text/x-python",
   "name": "python",
   "nbconvert_exporter": "python",
   "pygments_lexer": "ipython3",
   "version": "3.11.10"
  }
 },
 "nbformat": 4,
 "nbformat_minor": 2
}
