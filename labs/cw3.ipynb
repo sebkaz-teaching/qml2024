{
 "cells": [
  {
   "cell_type": "markdown",
   "metadata": {},
   "source": [
    "## Modele klasyfikacji\n",
    "\n",
    "\n",
    "\n",
    "\n",
    "### Gra w kwantową monetę \n",
    "\n",
    "\n",
    "\n",
    "Dane Titanic \n",
    "\n",
    "1. Wygeneruj model na bazie jednokubitowego obwodu kwantowego, który dla każdego wiersza danych generuje wynik 0 \n",
    "2. Utwórz model na bazie jednokubitowego obwody kwantowego, który dla każdego wiersza danych generuje wynik 1\n",
    "3. Utwórz model na bazie jednokubitowego obwodu kwantowego, który zwraca losową wartość 0 lub 1 z prawdopodobienstwem 1/2.\n",
    "4. 3 i 5 kubitów losowo zwracających 0 lub 1 ale wynik na podstawie Parity \n"
   ]
  }
 ],
 "metadata": {
  "kernelspec": {
   "display_name": "venv",
   "language": "python",
   "name": "python3"
  },
  "language_info": {
   "name": "python",
   "version": "3.11.10"
  }
 },
 "nbformat": 4,
 "nbformat_minor": 2
}
