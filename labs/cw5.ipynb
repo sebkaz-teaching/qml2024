{
 "cells": [
  {
   "cell_type": "markdown",
   "metadata": {},
   "source": [
    "# Optymalizacja z Variational Quantum Algorithms\n",
    "\n",
    "Wariacyjne algorytmy kwantowe są odpowiedzią na problem klasycznych algorytmów wykorzystywanych w obliczeniach kwantowych - mianowicie algorytmy te (np wzmacnianie amplitudy) wymagają duzej liczby kubitów. \n",
    "\n",
    "Zamiast realizować zadania za pomocą ustalonej sekwencji ustaolnych bramek algorytmy VQA definiowane są za pomocą `ansatz` $W(\\theta)$, który mozemy uznać za template (wzór) opisujący jakie bramki działają na który kubit. \n",
    "Dodatkowo kazdy ansatz moze byc wykonywany wiele razy (w jednym algorytmie) tworzą w ten sposób osobne warstwy (layers).\n",
    "Nazwa `variational` bierze się z tego, iz część bramek mozna realizować jako bramki obrotów zaleznych od parametrów. "
   ]
  },
  {
   "cell_type": "markdown",
   "metadata": {},
   "source": [
    "## VQE \n",
    "\n",
    "Algorytmy wariacyjne zostały zaproponowane w celu znalezienia stanu podstawowego, stanu o najnizszej energii (najmniejsza wartość własna z odpowiadaijącym wekrtorem własnym). \n",
    "\n",
    "Stan podstawowy $\\ket{\\psi}$ to stan dla którego wartość oczekiwana operatora jest minimalna. $$ \\bra{\\psi} H \\ket{\\psi} $$\n",
    "\n",
    "Algorytm VQE propnuje aby stan podstawowy zrealizować jako `ansatz`. \n",
    "\n",
    "$\\ket{\\psi \\left(\\theta\\right)} = W (\\theta) $\n",
    "Zamiast szukać stanu podstawowego $ \\ket{\\psi} $  znajdujemy prametr $\\theta$ dla którego wartość oczekiwana jest minimalna.\n",
    "\n",
    "$$ C(\\theta) = \\bra{\\psi \\left(\\theta\\right)}  H \\ket{\\psi \\left(\\theta\\right)}  $$\n",
    "\n",
    "Obliczenie wartości oczekiwanej dowolnego hamiltonianu nie musi być trudne ale wymaga duzej ilości powtórzeń dla niewielkiej liczby kubitów aby uzyskać odpowiednią statystykę. \n",
    "\n",
    "W wielu praktycznych przypadkach mozemy wyrazić nasz operator jako sumę jedno lub dwu kubitowych obserwabli. \n",
    "$$ H = \\sum_{j=1}^{J} h_j H_j $$\n",
    "\n",
    "W ogólności macierze Pauliego tworzą bazę dla macierzy 2x2 i dzieki temu zawsze mozemy zapisać ten wzór jako: \n",
    "\n",
    "$$ H = \\sum_{i=1}^{n} \\sum_{\\alpha={x,y,z,1}} h^i_{\\alpha} \\sigma^i_{\\alpha} + $$\n",
    "$$ +\\sum_{i,j=1}^{n} \\sum_{\\alpha, \\beta={x,y,z,1}} h^{ij}_{\\alpha \\beta} \\sigma^i_{\\alpha}\\sigma^j_{\\beta} + $$\n",
    "\n",
    "## Obwód kwantowy z optymalizacją\n",
    "\n",
    "- Napisz obwód kwantowy, który zawierać będzie tylko bramkę $R_X$ dla dowolnego parametru $\\theta$\n",
    "- oblicz i uzasadnij, że wartość oczekiwana dla stanu $\\ket{\\psi} = R_X \\, \\ket{0}$ \n",
    "$$<Z> = cos^2(\\theta /2)- sin^2(\\theta /2) = cos(\\theta)$$\n",
    "\n",
    "\n",
    "Załóżmy, że nasz problem obliczeniowy sprowadza się do wygenerowania wartości oczekiwanej o wartości 0.5. \n",
    "\n",
    "$$\n",
    " \\textbf{<Z>} = \\bra{\\psi} \\textbf{Z} \\ket{\\psi} = 0.5\n",
    " $$\n",
    "\n",
    " \n",
    "Napisz program znajdujący rozwiązanie - szukający wagę $\\theta$ dla naszego obwodu\n",
    "\n",
    "- Zdefiniuj funkcję kosztu, którą bedziemy minimalizować $(Y - y)^2$\n",
    "- zainicjuj rozwiązanie $theta=0.01$ i przypisz do tablicy array `np.array(0.01, requires_grad=True)`\n",
    "- Jako opt wybierz spadek po gradiencie : opt = qml.GradientDescentOptimizer(stepsize=0.1)\n",
    "- uzyj poniższego kodu do wygenerowania pętli obiczeń "
   ]
  },
  {
   "cell_type": "code",
   "execution_count": 1,
   "metadata": {},
   "outputs": [
    {
     "name": "stdout",
     "output_type": "stream",
     "text": [
      "epoka: 0, theta: 0.010999883335916642, koszt: 0.24993950555333252\n",
      "epoka: 10, theta: 0.028520883980330904, koszt: 0.2495934725570593\n",
      "epoka: 20, theta: 0.07380240366299132, koszt: 0.24728524869432472\n",
      "epoka: 30, theta: 0.18848123038996684, koszt: 0.23260358196368314\n",
      "epoka: 40, theta: 0.44553231822816797, koszt: 0.1619107886095973\n",
      "epoka: 50, theta: 0.7954652635692223, koszt: 0.03998102446252434\n",
      "epoka: 60, theta: 0.9838691671205075, koszt: 0.002894983645374295\n",
      "epoka: 70, theta: 1.0340365114010706, koszt: 0.00012891702079013002\n",
      "epoka: 80, theta: 1.0445781695789977, koszt: 5.138079127884816e-06\n",
      "epoka: 90, theta: 1.0466807535250837, koszt: 2.002500944777545e-07\n",
      "Optymalizacja zakonczona dla theta=1.0470778036429096, koszt: 1.0753863888581739e-08\n"
     ]
    }
   ],
   "source": [
    "# Rozwiązanie \n",
    "\n",
    "import pennylane as qml\n",
    "from pennylane import numpy as np \n",
    "\n",
    "dev = qml.device('default.qubit', wires=1)\n",
    "\n",
    "@qml.qnode(dev)\n",
    "def par_c(theta):\n",
    "    qml.RX(theta, wires=0)\n",
    "    return qml.expval(qml.PauliZ(0))\n",
    "\n",
    "\n",
    "def cost_fn(theta):\n",
    "    return (par_c(theta) - 0.5)**2\n",
    "\n",
    "theta = np.array(0.01, requires_grad=True)\n",
    "\n",
    "opt = qml.GradientDescentOptimizer(stepsize=0.1)\n",
    "\n",
    "epochs = 100\n",
    "\n",
    "for epoch in range(epochs):\n",
    "    theta = opt.step(cost_fn, theta)\n",
    "\n",
    "    if epoch % 10 == 0:\n",
    "        print(f\"epoka: {epoch}, theta: {theta}, koszt: {cost_fn(theta)}\")\n",
    "\n",
    "print(f\"Optymalizacja zakonczona dla theta={theta}, koszt: {cost_fn(theta)}\")"
   ]
  },
  {
   "cell_type": "markdown",
   "metadata": {},
   "source": [
    "Jeszcze jeden przykład\n",
    "\n",
    "- Napisz obwód kwantowy, który zawierać będzie bramkę $R_X$ dla parametru $\\theta_1$ oraz $R_Y$ dla parametru $\\theta_2$\n",
    "- oblicz i uzasadnij, że wartość oczekiwana dla stanu $\\ket{\\psi} = R_Y(\\theta_2) R_X(\\theta_1) \\, \\ket{0}$ \n",
    "\n",
    "$$<Z>  = \\cos(\\theta_1) \\cos(\\theta_2)$$\n",
    "\n",
    "Mozliwe wartości średniej zawierają się w przedziale $-1$, $1$.\n",
    "\n",
    "Przyjmij załozenie, ze optymalne rozwiązanie realizowane jest dla wartości oczekiwanej = 0.4 \n"
   ]
  },
  {
   "cell_type": "code",
   "execution_count": 2,
   "metadata": {},
   "outputs": [
    {
     "name": "stdout",
     "output_type": "stream",
     "text": [
      "epoka: 0, theta: [0.01119924 0.02239872], koszt: 0.3596238551650218\n",
      "epoka: 10, theta: [0.03468299 0.06939827], koszt: 0.35640059384126277\n",
      "epoka: 20, theta: [0.10485556 0.21069384], koszt: 0.3277736421372642\n",
      "epoka: 30, theta: [0.26595847 0.55025891], koszt: 0.17843868824086426\n",
      "epoka: 40, theta: [0.41114867 0.91214351], koszt: 0.02593550926609833\n",
      "epoka: 50, theta: [0.45600131 1.05610411], koszt: 0.0017612620807984237\n",
      "epoka: 60, theta: [0.46619699 1.09390217], koszt: 0.00010074458607215528\n",
      "epoka: 70, theta: [0.4685347  1.10295946], koszt: 5.557697121461739e-06\n",
      "epoka: 80, theta: [0.469078   1.10508776], koszt: 3.040948516747214e-07\n",
      "epoka: 90, theta: [0.46920476 1.10558565], koszt: 1.6607272093790385e-08\n",
      "Optymalizacja zakonczona dla theta=[0.46923296 1.10569646], koszt: 1.2125189676042736e-09\n"
     ]
    }
   ],
   "source": [
    "import pennylane as qml\n",
    "from pennylane import numpy as np \n",
    "\n",
    "dev = qml.device('default.qubit', wires=1)\n",
    "\n",
    "@qml.qnode(dev)\n",
    "def par_c(theta):\n",
    "    qml.RX(theta[0], wires=0)\n",
    "    qml.RY(theta[1], wires=0)\n",
    "    return qml.expval(qml.PauliZ(0))\n",
    "\n",
    "\n",
    "def cost_fn(theta):\n",
    "    return (par_c(theta) - 0.4)**2\n",
    "\n",
    "theta = np.array([0.01, 0.02], requires_grad=True)\n",
    "\n",
    "opt = qml.GradientDescentOptimizer(stepsize=0.1)\n",
    "\n",
    "epochs = 100\n",
    "\n",
    "for epoch in range(epochs):\n",
    "    theta = opt.step(cost_fn, theta)\n",
    "\n",
    "    if epoch % 10 == 0:\n",
    "        print(f\"epoka: {epoch}, theta: {theta}, koszt: {cost_fn(theta)}\")\n",
    "\n",
    "print(f\"Optymalizacja zakonczona dla theta={theta}, koszt: {cost_fn(theta)}\")"
   ]
  },
  {
   "cell_type": "markdown",
   "metadata": {},
   "source": [
    "### Zadanie\n",
    "\n",
    "Celem jest znalezienie najmnieszej wartości własnej dla Hamiltonianu $H = Z_0 Z_1 + Z_0$\n",
    "\n",
    "Tego typu hamiltoniany opisują układy fizyczne np. systemy spinowe. \n",
    "\n",
    "$Z_0 Z_1$ - mozna interpretować jako krawedz miedzy dwoma wierzchołkami. \n",
    "\n",
    "$Z_0$ - efekty lokalne wierzchołka 0"
   ]
  },
  {
   "cell_type": "code",
   "execution_count": 3,
   "metadata": {},
   "outputs": [
    {
     "name": "stdout",
     "output_type": "stream",
     "text": [
      "epoka: 0, theta: [3.78581375 2.84095803], koszt: -1.7547165517420802\n",
      "epoka: 50, theta: [3.54018563 2.95882169], koszt: -1.9049518343552694\n",
      "epoka: 100, theta: [3.38481311 3.03081671], koszt: -1.9644380440438454\n",
      "epoka: 150, theta: [3.28921059 3.0745284 ], koszt: -1.9868762791995278\n",
      "epoka: 200, theta: [3.23100688 3.10100859], koszt: -1.9951817904668534\n",
      "epoka: 250, theta: [3.19571201 3.11703688], koszt: -1.998234427307502\n",
      "epoka: 300, theta: [3.17434033 3.12673578], koszt: -1.9993534812964953\n",
      "epoka: 350, theta: [3.16140634 3.13260405], koszt: -1.9997633181211054\n",
      "epoka: 400, theta: [3.15358031 3.13615447], koszt: -1.9999133620707328\n",
      "epoka: 450, theta: [3.14884531 3.13830251], koszt: -1.999968287085212\n",
      "Optymalizacja zakonczona dla theta=[3.14602489 3.13958199], koszt: -1.9999881562738895\n"
     ]
    }
   ],
   "source": [
    "import pennylane as qml\n",
    "from pennylane import numpy as np \n",
    "import random\n",
    "\n",
    "dev = qml.device(\"default.qubit\", wires=2)\n",
    "\n",
    "H = qml.PauliZ(0) @ qml.PauliZ(1) + qml.PauliZ(0)\n",
    "\n",
    "@qml.qnode(dev)\n",
    "def circuit(params):\n",
    "    qml.RY(params[0], wires=0)\n",
    "    qml.RY(params[1], wires=1)\n",
    "    qml.CNOT(wires=[0,1])\n",
    "    return qml.expval(H)\n",
    "\n",
    "def cost_fn(params):\n",
    "    return circuit(params)\n",
    "\n",
    "init_param = [random.uniform(0, 2*3.1415) for _ in range(2)]\n",
    "\n",
    "params = np.array(init_param, requires_grad=True)\n",
    "\n",
    "opt = qml.GradientDescentOptimizer(stepsize=0.01)\n",
    "\n",
    "epochs = 500\n",
    "for epoch in range(epochs):\n",
    "    params = opt.step(cost_fn, params)\n",
    "\n",
    "    if epoch % 50 == 0:\n",
    "        print(f\"epoka: {epoch}, theta: {params}, koszt: {cost_fn(params)}\")\n",
    "\n",
    "print(f\"Optymalizacja zakonczona dla theta={params}, koszt: {cost_fn(params)}\")"
   ]
  },
  {
   "cell_type": "markdown",
   "metadata": {},
   "source": [
    "# Zadanie\n",
    "\n",
    "Jesteś firmą organizującą przyjęcia. \n",
    "\n",
    "Poproszono Cię o zorganizowanie 5 róznych eventów na Sobotę i Niedzielę. \n",
    "Kazde przyjęcie zaplanowane jest na cały dzień -> Jeśli dwa eventy odbywają się w tym samym dniu to jedna osoba nie moze pojawić się na dwóch przyjęciach. \n",
    "\n",
    "Posiadamy listę czterech osób i ich preferencje. \n",
    "\n",
    "1. E1, E4\n",
    "2. E2, E3\n",
    "3. E4, E5\n",
    "4. E3, E4\n",
    "\n",
    "Problem ten mozna zareprezentować jako problem typu QUBO (ang. quadratic unconstrained binary optimization)\n",
    "\n",
    "Zdefiniujmy graf, którego wierzchołki (nodes) to wydarzenia (eventy), natomiast krawędzie (edges) to osoby, które łączą dwa wydazenia jeśli dana osoba jest zainteresowana (dwoma) wydarzeniami. \n",
    "Rozwiązanie zadania mozna uzyskać poprzez pokolorowanie grafu na dwa kolory (biały - sobota , czarny - niedziela) - Znalezienie optymalnego podziału kolorów tak aby edge nie łączył tych samych kolorów (nie da się iść na dwa eventy w tym samym czasie).\n",
    "\n",
    "Rozwiązanie: \n",
    "\n",
    "wprowadźmy pięć zmiennych $x_i = x_1, x_2, x_3, x_4, x_5$. \n",
    "\n",
    "Wszystkim $x_i$ trzeba przypisać dwie wartości 0 event w sobotę lub 1 event w niedzielę.\n",
    "\n",
    "Do optymalizacji potrzebujemy funkcję $f(x_1,...,x_5)  = 1 + x_1 + x_4 - 2 x_1 x_4 + ...$\n",
    "\n",
    "$$f(x_1,...,x_5)  = 1 + x_1 + x_4 - 2 x_1 x_4 + $$\n",
    "$$ 1 + x_2 + x_3 - 2 x_2 x_3 + $$\n",
    "$$ 1 + x_4 + x_5 - 2 x_4 x_5 + $$\n",
    "$$ 1 + x_3 + x_4 - 2 x_3 x_4$$\n",
    "\n",
    "czynnik 1 dodajemy gdyby ktoś poszedł na event i w sobotę i w niedzielę. \n",
    "\n",
    "## QUBO - Quadratic unconstrained binary optimization\n",
    "\n",
    "[Wiki info](https://en.wikipedia.org/wiki/Quadratic_unconstrained_binary_optimization)\n",
    "\n",
    "[Artykuł](https://leeds-faculty.colorado.edu/glover/454%20-%20xQx%20survey%20article%20as%20published%202014.pdf)\n",
    "\n",
    "[Artykuł 2](https://arxiv.org/pdf/1811.11538) - bardzo dobry przykład uzycia\n",
    "\n",
    "[Lista problemów zdefiniowanych jako problem QUBO](https://blog.xa0.de/post/List-of-QUBO-formulations/)\n",
    "\n",
    "\n",
    "- logistyka,\n",
    "- planowanie, \n",
    "- optymalizacja portfolio,\n",
    "- ...\n",
    "\n",
    "Combinatorial optimization problems are problems involving a large number of yes/no decisions with each set of decisions yielding a corresponding objective function value, like a cost or profit value.\n",
    "\n",
    "Because of the combinatorial explosion of the solution space with the number of variables, finding good solutions is extremely difficult.\n",
    "\n",
    "The QUBO model unifies a rich variety of NP-hard combinatorial optimization problems:\n",
    "\n",
    "- Quadratic Assignment Problems \n",
    "- Capital Budgeting Problems\n",
    "- Task allocation Problems\n",
    "- Maximum--Cut Problems\n",
    "\n",
    "QUBO objective function:\n",
    "\n",
    "$$\n",
    "F(q) = \\sum_a v_a x_a + \\sum_{a < b} \\omega_{a b} x_a x_b \n",
    "$$\n",
    "gdzie $q_a \\in \\{0,1\\}$, $v_a$ oraz $\\omega_a$ to rzeczywiste współczynniki dla liniowej i kwadratowej części.\n",
    "\n",
    "Rozwiązanie QUBO jest problemem NP-trudnym.\n",
    "\n",
    "Wprowadźmy zamianę zmiennych: \n",
    "$$ \n",
    "x_i = 1/2 (1 - z_i)\n",
    "$$ \n",
    "gdzie $z \\in {-1,1}$\n",
    "\n",
    "$$ \n",
    "F(z) = \\sum_a h_a z_a + \\sum_{a < b} J_{a b} z_a z_b \n",
    "$$ \n",
    "\n",
    "\n",
    "Jak to zagadnienie wrzucić na komputer kwantowy \n",
    "\n",
    "Korzystając z zamiany zmiennych \n",
    "$$f(z_1,...,z_5)  = 6 - \\frac{1}{2} z_1 z_4 - \\frac{1}{2} z_2 z_3 - \\frac{1}{2} z_4 z_5 - \\frac{1}{2} z_3 z_4 $$\n",
    "\n",
    "Mozemy teraz przygotować \"Hamiltonian\" dla tej konfiguracji - zamieniamy zmienne $z_i$ na macierze Pauliego $Z_i$"
   ]
  },
  {
   "cell_type": "code",
   "execution_count": 4,
   "metadata": {},
   "outputs": [
    {
     "name": "stdout",
     "output_type": "stream",
     "text": [
      "-6 * I(0) + (0.5 * Z(0)) @ Z(3) + (0.5 * Z(1)) @ Z(2) + (0.5 * Z(3)) @ Z(4) + (0.5 * Z(2)) @ Z(3) <Wires = [0, 3, 1, 2, 4]>\n"
     ]
    }
   ],
   "source": [
    "import pennylane as qml\n",
    "from pennylane import numpy as np \n",
    "\n",
    "# H = 6* qml.Identity(1) - \\ \n",
    "# 0.5 * qml.PauliZ(1) @ qml.PauliZ(4) - \\\n",
    "# 0.5 * qml.PauliZ(2) @ qml.PauliZ(3) - \\\n",
    "# 0.5 * qml.PauliZ(4) @ qml.PauliZ(5) - \\\n",
    "# 0.5 * qml.PauliZ(3) @ qml.PauliZ(4)\n",
    "\n",
    "# bo chcemy minimalizować \n",
    "H = - 6 * qml.Identity(0) +  \\\n",
    "    0.5 * qml.PauliZ(0) @ qml.PauliZ(3) + \\\n",
    "    0.5 * qml.PauliZ(1) @ qml.PauliZ(2) +  0.5 * qml.PauliZ(3) @ qml.PauliZ(4) +  0.5 * qml.PauliZ(2) @ qml.PauliZ(3)\n",
    "\n",
    "print(H, H.wires)\n",
    "\n",
    "dev = qml.device(\"default.qubit\",  H.wires)\n",
    "\n",
    "@qml.qnode(dev)\n",
    "def circuit(params):\n",
    "    for param, wire in zip(params, H.wires):\n",
    "        qml.RY(param, wires=wire)\n",
    "    return qml.expval(H)\n"
   ]
  },
  {
   "cell_type": "markdown",
   "metadata": {},
   "source": [
    "Załózmy, ze wszystkie osoby poszly w ten sam dzień "
   ]
  },
  {
   "cell_type": "code",
   "execution_count": 5,
   "metadata": {},
   "outputs": [
    {
     "data": {
      "text/plain": [
       "tensor(-4., requires_grad=True)"
      ]
     },
     "execution_count": 5,
     "metadata": {},
     "output_type": "execute_result"
    }
   ],
   "source": [
    "circuit([0,0,0,0,0])"
   ]
  },
  {
   "cell_type": "code",
   "execution_count": 6,
   "metadata": {},
   "outputs": [
    {
     "name": "stdout",
     "output_type": "stream",
     "text": [
      "epoka: 0, theta: [0.80227878 0.34407939 0.62771339 0.27812424 0.48717075], koszt: -4.415161534719515\n",
      "epoka: 50, theta: [5.55966795e-06 3.14159265e+00 3.14158384e+00 2.88840393e-13\n",
      " 3.08092869e-06], koszt: -7.999999999970489\n",
      "epoka: 100, theta: [3.14856036e-12 3.14159265e+00 3.14159265e+00 2.56541804e-28\n",
      " 1.74479664e-12], koszt: -8.0\n",
      "epoka: 150, theta: [1.78309792e-18 3.14159265e+00 3.14159265e+00 2.27854894e-43\n",
      " 9.88116124e-19], koszt: -8.0\n",
      "Optymalizacja zakonczona dla theta=[1.34640929e-24 3.14159265e+00 3.14159265e+00 4.04751599e-58\n",
      " 7.46122080e-25], koszt: -8.0\n"
     ]
    }
   ],
   "source": [
    "params = np.random.rand(len(H.wires))\n",
    "opt = qml.GradientDescentOptimizer(stepsize=0.5)\n",
    "epochs = 200\n",
    "\n",
    "for epoch in range(epochs):\n",
    "    params = opt.step(circuit, params)\n",
    "\n",
    "    if epoch % 50 == 0:\n",
    "        print(f\"epoka: {epoch}, theta: {params}, koszt: {circuit(params)}\")\n",
    "\n",
    "print(f\"Optymalizacja zakonczona dla theta={params}, koszt: {circuit(params)}\")"
   ]
  },
  {
   "cell_type": "code",
   "execution_count": 7,
   "metadata": {},
   "outputs": [],
   "source": [
    "dev = qml.device(\"default.qubit\",  H.wires, shots=1)\n",
    "\n",
    "@qml.qnode(dev)\n",
    "def results(params):\n",
    "    for param, wire in zip(params, H.wires):\n",
    "        qml.RY(param, wires=wire)\n",
    "    return qml.sample()"
   ]
  },
  {
   "cell_type": "code",
   "execution_count": 8,
   "metadata": {},
   "outputs": [
    {
     "data": {
      "text/plain": [
       "array([0, 1, 1, 0, 0])"
      ]
     },
     "execution_count": 8,
     "metadata": {},
     "output_type": "execute_result"
    }
   ],
   "source": [
    "results(params)"
   ]
  },
  {
   "cell_type": "markdown",
   "metadata": {},
   "source": [
    "Bramki kwantowe realizowane są w modelu bramkowym przez `operatory unitarne` reprezentowane przez macierze.\n",
    "\n",
    "$$\n",
    "U U^{\\dagger} = U^{\\dagger} U = I \n",
    "$$\n",
    "\n",
    "Kazda macierz unitarna moze być przedstawiona jako: \n",
    "\n",
    "$$ \n",
    "U(H,t) = e^{-i H t}\n",
    "$$\n",
    "gdzie $H$ to macierz Hermitowska ($H=H^{\\dagger}$)\n",
    "\n",
    "W ogólności, implementacja obwodu kwantowego, który dokładnie realizuje macierz unitarną dla zadanego \n",
    "Hamiltonianiu jest bardzo trudnym zadaniem. Hamiltonian taki zazwyczaj składa się z sumy wielu niekomutujących części.  \n",
    "\n",
    "$$ \n",
    "H = H_1 + H_2 + \\dots + H_n\n",
    "$$ \n",
    "\n",
    "\n",
    "Rozwazmy pierwszy prosty przypadek gdzie nasza macierz $H$ realizowana jest przez operator Pauliego $Z$.\n",
    "\n",
    "Chcielibyśmy znaleźć tzn poziom podstawowy operatora $H$, czyli jego wektor własny dla którego ma on najmniejszą wartość własną. \n",
    "Takie podejście powinno kojarzyć się nam z wymogiem minimalizacji funkcji straty. \n",
    "$$ H\\ket{E_0} = E_0\\ket{E_0} $$\n",
    "\n",
    "W przypadku gdy $H = Z$ mamy dwa stany $\\ket{0}$ i $\\ket{1}$ \n",
    "\n",
    "$$ Z\\ket{0} = 1 \\ket{0} $$\n",
    "\n",
    "$$ Z\\ket{1} = -1 \\ket{1} $$\n",
    "\n",
    "Czyli stanem o najmniejszej wartości własnej jest stan $\\ket{1}$.\n",
    "\n",
    "Załózmy, ze nie znamy tej informacji!!! \n",
    "\n",
    "Algorytm QAOA \n",
    "\n",
    "1. Przygotuj obwód i zastosuj bramkę Hadamarda - stan superpozycji ($\\ket{+} = H\\ket{0}$)\n",
    "2. Dokonujemy ewolucji czasowej naszego operatora $Z$ \n",
    "$$ e^{-itZ}\\ket{+}  = \\frac{1}{\\sqrt{2}}(e^{-it}\\ket{0} + e^{it}\\ket{1})$$\n",
    "3. Zastosujmy dodatkowo bramkę $R_X(-\\theta)$ \n",
    "$$  R_x(- \\theta) \\frac{1}{\\sqrt{2}}(e^{-it}\\ket{0} + e^{it}\\ket{1})$$\n",
    "$$  \\frac{1}{\\sqrt{2}}\\left( (e^{-it} cos(\\theta /2 + i e^{it}sin(\\theta /2)) \\ket{0} + (ie^{-it} sin(\\theta /2 + e^{it} cos(\\theta /2))\\ket{1}) \\right)$$\n",
    "\n",
    "Dla $t = \\pi/4 $ oraz $\\theta = \\pi /2$ otrzymujemy stan $\\ket{1}$\n",
    "\n",
    "Nazewnictwo: \n",
    "\n",
    "1. Cost Hamiltonian:  $H_{cost} = Z$  \n",
    "2. Mixer Hamiltonian:  $H_{mixer} = X$  bo $R_x(t) = e^{-itX}$\n",
    "\n",
    "Mozemy wykorzystać wzór  `Trotter'a-Suzuki` który przybliza dowolną sumę macierzy \n",
    "$$ \n",
    "e^{A + B} \\approx \\left( e^{A/n} e^{B/n} \\right)^n\n",
    "$$ \n",
    " \n",
    "dlatego dla  $H=\\sum_k H_k$ otrzymujemy\n",
    "$$ U(H,t,n) = \\prod_{j=1}^n \\prod_k e^{-i H_k t/n} $$\n",
    "\n",
    "## Quantum Approximate Optimization Algorithm \n",
    "\n",
    "QAOA mozna zastosować do nietrywialnych problemów kombinatorycznych (optymalizacyjnych). \n",
    "\n",
    "Jest on przykładem realizacji `VQA` czyli `wariacyjnych algorytmów kwantowych` opartych na (`PQC`) `parametryzowanych obwodów kwantowych`.\n",
    "\n",
    "Mozna uruchomić go na współcześnie dostępnych komputerach kwantowych. Nie wymaga skomplikowanych bramek. \n",
    "\n"
   ]
  },
  {
   "cell_type": "code",
   "execution_count": 9,
   "metadata": {},
   "outputs": [],
   "source": [
    "import pennylane as qml\n",
    "from pennylane import numpy as np \n",
    "\n",
    "from pennylane import qaoa\n",
    "\n",
    "import matplotlib.pyplot as plt \n",
    "# import cmath"
   ]
  },
  {
   "cell_type": "code",
   "execution_count": 10,
   "metadata": {},
   "outputs": [
    {
     "name": "stdout",
     "output_type": "stream",
     "text": [
      "<Wires = [0, 1, 2]>\n"
     ]
    }
   ],
   "source": [
    "cost_H = qml.Hamiltonian(\n",
    "    [1,1,1],\n",
    "    [qml.PauliZ(0), qml.PauliZ(1), qml.PauliZ(2)]\n",
    "    ) # minimum dla |111> \n",
    "mixer_H  = qml.Hamiltonian(\n",
    "    [1,1,1],\n",
    "    [qml.PauliX(0), qml.PauliX(1), qml.PauliX(2)]\n",
    "    ) \n",
    "\n",
    "wires = cost_H.wires\n",
    "print(wires)\n",
    "\n",
    "# circuit - one layer = H_cos + H mix\n",
    "\n",
    "num_layers = 5 \n",
    "\n",
    "def qoao_layer(gamma, alpha):\n",
    "    qaoa.cost_layer(gamma, cost_H)\n",
    "    qaoa.mixer_layer(alpha, mixer_H)\n",
    "\n",
    "def circuit(params):\n",
    "    for w in wires:\n",
    "        qml.Hadamard(w)\n",
    "    qml.layer(qoao_layer, num_layers, params[0], params[1]) # potwarza layer n razy\n",
    "\n",
    "dev = qml.device('default.qubit', wires=wires)\n",
    "\n",
    "@qml.qnode(dev)\n",
    "def cost_function(params):\n",
    "    circuit(params)\n",
    "    return qml.expval(cost_H)\n"
   ]
  },
  {
   "cell_type": "code",
   "execution_count": 11,
   "metadata": {},
   "outputs": [
    {
     "name": "stdout",
     "output_type": "stream",
     "text": [
      "Optymalizacja zakonczona dla theta=[[0.44741266 0.59627289 0.48116583 0.23007397 0.25139093]\n",
      " [0.25139093 0.23007397 0.48116583 0.59627289 0.44741266]], koszt: -2.999999999999984\n"
     ]
    }
   ],
   "source": [
    "params = np.array([[0.5]*num_layers, [0.5]*num_layers], requires_grad=True)\n",
    "\n",
    "\n",
    "opt = qml.GradientDescentOptimizer()\n",
    "epochs = 100\n",
    "\n",
    "for epoch in range(epochs):\n",
    "    params = opt.step(cost_function, params)\n",
    "\n",
    "\n",
    "print(f\"Optymalizacja zakonczona dla theta={params}, koszt: {cost_function(params)}\")"
   ]
  },
  {
   "cell_type": "code",
   "execution_count": 12,
   "metadata": {},
   "outputs": [
    {
     "data": {
      "text/plain": [
       "tensor([-0.+0.j,  0.-0.j,  0.-0.j, -0.-0.j, -0.+0.j, -0.-0.j,  0.-0.j,\n",
       "        -1.-0.j], requires_grad=True)"
      ]
     },
     "execution_count": 12,
     "metadata": {},
     "output_type": "execute_result"
    }
   ],
   "source": [
    "@qml.qnode(dev)\n",
    "def circuit_state(params):\n",
    "    circuit(params)\n",
    "    return qml.state()\n",
    "\n",
    "\n",
    "np.round_(circuit_state(params),  decimals=5)"
   ]
  },
  {
   "cell_type": "code",
   "execution_count": 13,
   "metadata": {},
   "outputs": [],
   "source": [
    "@qml.qnode(dev)\n",
    "def probability_circuit(gamma, alpha):\n",
    "    circuit([gamma, alpha])\n",
    "    return qml.probs(wires=wires)\n",
    "\n",
    "\n",
    "probs = probability_circuit(params[0], params[1])"
   ]
  },
  {
   "cell_type": "code",
   "execution_count": 14,
   "metadata": {},
   "outputs": [
    {
     "data": {
      "image/png": "[encoded data removed]",
      "text/plain": [
       "<Figure size 640x480 with 1 Axes>"
      ]
     },
     "metadata": {},
     "output_type": "display_data"
    }
   ],
   "source": [
    "plt.bar(range(2 ** len(wires)), probs)\n",
    "plt.show()"
   ]
  },
  {
   "cell_type": "code",
   "execution_count": 16,
   "metadata": {},
   "outputs": [
    {
     "data": {
      "text/plain": [
       "'111'"
      ]
     },
     "execution_count": 16,
     "metadata": {},
     "output_type": "execute_result"
    }
   ],
   "source": [
    "\"{0:b}\".format(7)"
   ]
  },
  {
   "cell_type": "markdown",
   "metadata": {},
   "source": [
    "### Max-cut \n",
    "\n"
   ]
  },
  {
   "cell_type": "code",
   "execution_count": 17,
   "metadata": {},
   "outputs": [],
   "source": [
    "from pennylane import qaoa\n",
    "from pennylane import numpy as np\n",
    "from matplotlib import pyplot as plt\n",
    "import networkx as nx"
   ]
  },
  {
   "cell_type": "code",
   "execution_count": 18,
   "metadata": {},
   "outputs": [
    {
     "data": {
      "image/png": "[encoded data removed]",
      "text/plain": [
       "<Figure size 640x480 with 1 Axes>"
      ]
     },
     "metadata": {},
     "output_type": "display_data"
    }
   ],
   "source": [
    "edges = [(0, 1), (1, 2),(2,3),(3,0)]\n",
    "graph = nx.Graph(edges)\n",
    "nx.draw(graph, with_labels=True)\n",
    "plt.show()"
   ]
  },
  {
   "cell_type": "code",
   "execution_count": 19,
   "metadata": {},
   "outputs": [
    {
     "name": "stdout",
     "output_type": "stream",
     "text": [
      "Cost Hamiltonian 0.75 * (Z(0) @ Z(1)) + 0.75 * Z(0) + 0.75 * Z(1) + 0.75 * (Z(0) @ Z(3)) + 0.75 * Z(0) + 0.75 * Z(3) + 0.75 * (Z(1) @ Z(2)) + 0.75 * Z(1) + 0.75 * Z(2) + 0.75 * (Z(2) @ Z(3)) + 0.75 * Z(2) + 0.75 * Z(3) + -1.0 * Z(0) + -1.0 * Z(1) + -1.0 * Z(2) + -1.0 * Z(3)\n",
      "Mixer Hamiltonian 1 * X(0) + 1 * X(1) + 1 * X(2) + 1 * X(3)\n"
     ]
    }
   ],
   "source": [
    "cost_h, mixer_h = qaoa.min_vertex_cover(graph, constrained=False)\n",
    "\n",
    "print(\"Cost Hamiltonian\", cost_h)\n",
    "print(\"Mixer Hamiltonian\", mixer_h)"
   ]
  },
  {
   "cell_type": "code",
   "execution_count": 20,
   "metadata": {},
   "outputs": [],
   "source": [
    "def qaoa_layer(gamma, alpha):\n",
    "    qaoa.cost_layer(gamma, cost_h)\n",
    "    qaoa.mixer_layer(alpha, mixer_h)\n"
   ]
  },
  {
   "cell_type": "code",
   "execution_count": 21,
   "metadata": {},
   "outputs": [],
   "source": [
    "wires = cost_h.wires\n",
    "depth = 2\n",
    "\n",
    "\n",
    "def circuit(params, **kwargs):\n",
    "    for w in wires:\n",
    "        qml.Hadamard(wires=w)\n",
    "    qml.layer(qaoa_layer, depth, params[0], params[1])"
   ]
  },
  {
   "cell_type": "code",
   "execution_count": 22,
   "metadata": {},
   "outputs": [],
   "source": [
    "dev = qml.device(\"default.qubit\", wires=wires)\n",
    "\n",
    "\n",
    "@qml.qnode(dev)\n",
    "def cost_function(params):\n",
    "    circuit(params)\n",
    "    return qml.expval(cost_h)"
   ]
  },
  {
   "cell_type": "code",
   "execution_count": 23,
   "metadata": {},
   "outputs": [],
   "source": [
    "optimizer = qml.GradientDescentOptimizer()\n",
    "steps = 70\n",
    "params = np.array([[0.5, 0.5], [0.5, 0.5]], requires_grad=True)"
   ]
  },
  {
   "cell_type": "code",
   "execution_count": 24,
   "metadata": {},
   "outputs": [
    {
     "name": "stdout",
     "output_type": "stream",
     "text": [
      "Optimal Parameters\n",
      "[[0.63141524 1.02160759]\n",
      " [0.51521978 0.86666078]]\n"
     ]
    }
   ],
   "source": [
    "for i in range(steps):\n",
    "    params = optimizer.step(cost_function, params)\n",
    "\n",
    "print(\"Optimal Parameters\")\n",
    "print(params)"
   ]
  },
  {
   "cell_type": "code",
   "execution_count": 25,
   "metadata": {},
   "outputs": [],
   "source": [
    "@qml.qnode(dev)\n",
    "def probability_circuit(gamma, alpha):\n",
    "    circuit([gamma, alpha])\n",
    "    return qml.probs(wires=wires)\n",
    "\n",
    "\n",
    "probs = probability_circuit(params[0], params[1])"
   ]
  },
  {
   "cell_type": "code",
   "execution_count": 26,
   "metadata": {},
   "outputs": [
    {
     "data": {
      "image/png": "[encoded data removed]",
      "text/plain": [
       "<Figure size 640x480 with 1 Axes>"
      ]
     },
     "metadata": {},
     "output_type": "display_data"
    }
   ],
   "source": [
    "plt.bar(range(2 ** len(wires)), probs)\n",
    "plt.show()"
   ]
  },
  {
   "cell_type": "code",
   "execution_count": 27,
   "metadata": {},
   "outputs": [
    {
     "data": {
      "text/plain": [
       "('0110', '1001')"
      ]
     },
     "execution_count": 27,
     "metadata": {},
     "output_type": "execute_result"
    }
   ],
   "source": [
    "('{0:04b}'.format(6), '{0:04b}'.format(9))"
   ]
  }
 ],
 "metadata": {
  "kernelspec": {
   "display_name": "venv",
   "language": "python",
   "name": "python3"
  },
  "language_info": {
   "codemirror_mode": {
    "name": "ipython",
    "version": 3
   },
   "file_extension": ".py",
   "mimetype": "text/x-python",
   "name": "python",
   "nbconvert_exporter": "python",
   "pygments_lexer": "ipython3",
   "version": "3.11.11"
  }
 },
 "nbformat": 4,
 "nbformat_minor": 2
}
