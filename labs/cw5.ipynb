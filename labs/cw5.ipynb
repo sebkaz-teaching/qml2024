{
 "cells": [
  {
   "cell_type": "markdown",
   "metadata": {},
   "source": [
    "# Optymalizacja \n",
    "\n",
    "## Obwód kwantowy z optymalizacją\n",
    "\n",
    "- Napisz obwód kwantowy, który zawierać będzie tylko bramkę $R_X$ dla dowolnego parametru $\\theta$\n",
    "- oblicz i uzasadnij, że wartość oczekiwana dla stanu $\\ket{\\psi} = R_X \\, \\ket{0}$ \n",
    "$$<Z> = cos^2(\\theta /2)- sin^2(\\theta /2) = cos(\\theta)$$\n",
    "\n",
    "\n",
    "Załóżmy, że nasz problem obliczeniowy sprowadza się do wygenerowania wartości oczekiwanej o wartości 0.5. \n",
    "\n",
    "$$\n",
    " \\textbf{<Z>} = \\bra{\\psi} \\textbf{Z} \\ket{\\psi} = 0.5\n",
    " $$\n",
    "\n",
    " \n",
    "\n",
    "Napisz program znajdujący rozwiązanie - szukający wagę $\\theta$ dla naszego obwodu\n",
    "\n",
    "- Zdefiniuj funkcję kosztu, którą bedziemy minimalizować $(Y - y)^2$\n",
    "- zainicjuj rozwiązanie $theta=0.01$ i przypisz do tablicy array `np.array(0.01, requires_grad=True)`\n",
    "- Jako opt wybierz spadek po gradiencie : opt = qml.GradientDescentOptimizer(stepsize=0.1)\n",
    "- uzyj poniższego kodu do wygenerowania pętli obiczeń \n",
    "\n",
    "```python\n",
    "\n",
    "epochs = 100\n",
    "\n",
    "for epoch in range(epochs):\n",
    "    theta = opt.step(cost_fn, theta)\n",
    "\n",
    "    if epoch % 10 == 0:\n",
    "        print(f\"epoka: {epoch}, theta: {theta}, koszt: {cost_fn(theta)}\")\n",
    "```\n",
    "\n",
    "Wersja z optymalizatorem PyTorch\n",
    "\n",
    "```python\n",
    "from torch.optim import Adam\n",
    "import torch\n",
    "\n",
    "theta = torch.tensor(0.01, requires_grad=True)\n",
    "\n",
    "optimizer = Adam([theta], lr=0.1)\n",
    "epochs = 100\n",
    "\n",
    "for epoch in range(epochs):\n",
    "    optimizer.zero_grad()\n",
    "    loss = cost_fn(theta)\n",
    "    loss.backward()\n",
    "    optimizer.step()\n",
    "    if epoch % 10 == 0:\n",
    "        print(f\"epoka: {epoch}, theta: {theta}, koszt: {cost_fn(theta)}\")\n",
    "    \n",
    "```"
   ]
  },
  {
   "cell_type": "markdown",
   "metadata": {},
   "source": [
    "Jeszcze jeden przykład"
   ]
  },
  {
   "cell_type": "markdown",
   "metadata": {},
   "source": [
    "- Napisz obwód kwantowy, który zawierać będzie bramkę $R_X$ dla parametru $\\theta_1$ oraz $R_Y$ dla parametru $\\theta_2$\n",
    "- oblicz i uzasadnij, że wartość oczekiwana dla stanu $\\ket{\\psi} = R_Y(\\theta_2) R_X(\\theta_1) \\, \\ket{0}$ \n",
    "\n",
    "$$<Z>  = \\cos(\\theta_1) \\cos(\\theta_2)$$\n",
    "\n",
    "Mozliwe wartości średniej zawierają się w przedziale $-1$, $1$.\n",
    "\n",
    "Przyjmij załozenie, ze optymalne rozwiązanie realizowane jest dla wartości oczekiwanej = 0.4 "
   ]
  },
  {
   "cell_type": "markdown",
   "metadata": {},
   "source": [
    "# Zadanie\n",
    "\n",
    "Jesteś firmą organizującą przyjęcia. \n",
    "\n",
    "Poproszono Cię o zorganizowanie 5 róznych eventów na Sobotę i Niedzielę. \n",
    "Kazde przyjęcie zaplanowane jest na cały dzień -> Jeśli dwa eventy odbywają się w tym samym dniu to jedna osoba nie moze pojawić się na dwóch przyjęciach. \n",
    "\n",
    "Posiadamy listę osób i ich preferencje. \n",
    "\n",
    "1. E1, E4\n",
    "2. E2, E3\n",
    "3. E4, E5\n",
    "4. E3, E4\n",
    "\n",
    "Problem ten mozna zareprezentować jako problem typu QUBO (ang. quadratic unconstrained binary optimization)\n",
    "\n",
    "\n",
    "\n",
    "\n",
    "\n"
   ]
  },
  {
   "cell_type": "code",
   "execution_count": null,
   "metadata": {},
   "outputs": [],
   "source": []
  }
 ],
 "metadata": {
  "kernelspec": {
   "display_name": "venv",
   "language": "python",
   "name": "python3"
  },
  "language_info": {
   "codemirror_mode": {
    "name": "ipython",
    "version": 3
   },
   "file_extension": ".py",
   "mimetype": "text/x-python",
   "name": "python",
   "nbconvert_exporter": "python",
   "pygments_lexer": "ipython3",
   "version": "3.11.11"
  }
 },
 "nbformat": 4,
 "nbformat_minor": 2
}
