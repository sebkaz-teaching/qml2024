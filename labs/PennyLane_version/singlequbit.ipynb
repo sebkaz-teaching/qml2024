{
 "cells": [
  {
   "cell_type": "markdown",
   "metadata": {},
   "source": [
    "# X and H gates Flipping bits\n",
    "\n",
    "\n",
    "\n",
    "Learning Objectives:\n",
    "\n",
    "- Explain why we can understand how an operation works by applying it to the basis states.\n",
    "- Describe the action of the X gate, its matrix representation, and eigenvalues.\n",
    "- Describe the action of the Hadamard gate, its matrix representation, and eigenvalues.\n",
    "\n",
    "\n",
    "A common use of the  gate is in initializing the state of a qubit at the beginning of an algorithm. Quite often, we would like our qubits to start in state  (which is the default in PennyLane), however there are many cases where we instead would like to start from Complete the function below by using qml.PauliX to initialize the qubit's state to  or based on an input flag. Then, use qml.QubitUnitary to apply the provided unitary U."
   ]
  },
  {
   "cell_type": "markdown",
   "metadata": {},
   "source": [
    "$$\n",
    "\\newcommand{\\bra}[1]{\\left \\langle #1 \\right \\rvert}\n",
    "\\newcommand{\\ket}[1]{\\left \\rvert #1 \\right \\rangle}\n",
    "\\newcommand{\\braket}[2]{\\left \\langle #1 \\middle \\rvert #2 \\right \\rangle}\n",
    "$$"
   ]
  },
  {
   "cell_type": "code",
   "execution_count": null,
   "metadata": {},
   "outputs": [],
   "source": [
    "dev = qml.device(\"default.qubit\", wires=1)\n",
    "\n",
    "U = np.array([[1, 1], [1, -1]]) / np.sqrt(2)\n",
    "\n",
    "\n",
    "@qml.qnode(dev)\n",
    "def varied_initial_state(state):\n",
    "    \"\"\"Complete the function such that we can apply the operation U to\n",
    "    either |0> or |1> depending on the input argument flag.\n",
    "\n",
    "    Args:\n",
    "        state (int): Either 0 or 1. If 1, prepare the qubit in state |1>,\n",
    "            otherwise, leave it in state 0.\n",
    "\n",
    "    Returns:\n",
    "        np.array[complex]: The state of the qubit after the operations.\n",
    "    \"\"\"\n",
    "    ##################\n",
    "    # YOUR CODE HERE #\n",
    "    ##################\n",
    "\n",
    "    # KEEP THE QUBIT IN |0> OR CHANGE IT TO |1> DEPENDING ON THE state PARAMETER\n",
    "\n",
    "    # APPLY U TO THE STATE\n",
    "\n",
    "    return qml.state()"
   ]
  },
  {
   "cell_type": "markdown",
   "metadata": {
    "vscode": {
     "languageId": "plaintext"
    }
   },
   "source": [
    "<!-- \n",
    "if state:\n",
    "        qml.PauliX(wires=0)\n",
    "\n",
    "    qml.QubitUnitary(U, wires=0)\n",
    "-->\n"
   ]
  }
 ],
 "metadata": {
  "language_info": {
   "name": "python"
  }
 },
 "nbformat": 4,
 "nbformat_minor": 2
}
