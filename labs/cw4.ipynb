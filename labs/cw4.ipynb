{
 "cells": [
  {
   "cell_type": "markdown",
   "metadata": {},
   "source": [
    "\n",
    "# Bramki wielokubitowe\n",
    "\n",
    "## Zadanie -  Obwód kwantowy z optymalizacją\n",
    "\n",
    "- Napisz obwód kwantowy, który zawierać będzie tylko bramkę $R_X$ dla dowolnego parametru $\\theta$\n",
    "- oblicz i uzasadnij, że wartość oczekiwana dla stanu $\\ket{\\psi} = R_X \\, \\ket{0}$ \n",
    "$$<Z> = cos^2(\\theta /2)- sin^2(\\theta /2) = cos(\\theta)$$\n",
    "\n",
    "\n",
    "Załóżmy, że nasz problem obliczeniowy sprowadza się do wygenerowania wartości oczekiwanej o wartości 0.5. \n",
    "\n",
    "$$\n",
    " \\textbf{<Z>} = \\bra{\\psi} \\textbf{Z} \\ket{\\psi} = 0.5\n",
    " $$\n",
    "\n",
    " \n",
    "\n",
    "Napisz program znajdujący rozwiązanie - szukający wagę $\\theta$ dla naszego obwodu\n",
    "\n",
    "- Zdefiniuj funkcję kosztu, którą bedziemy minimalizować $(Y - y)^2$\n",
    "- zainicjuj rozwiązanie $theta=0.01$ i przypisz do tablicy array `np.array(0.01, requires_grad=True)`\n",
    "- Jako opt wybierz spadek po gradiencie : opt = qml.GradientDescentOptimizer(stepsize=0.1)\n",
    "- uzyj poniższego kodu do wygenerowania pętli obiczeń \n",
    "\n",
    "```python\n",
    "\n",
    "epochs = 100\n",
    "\n",
    "for epoch in range(epochs):\n",
    "    theta = opt.step(cost_fn, theta)\n",
    "\n",
    "    if epoch % 10 == 0:\n",
    "        print(f\"epoka: {epoch}, theta: {theta}, koszt: {cost_fn(theta)}\")\n",
    "```"
   ]
  },
  {
   "cell_type": "markdown",
   "metadata": {},
   "source": [
    "## Bramki dwukubitowe\n",
    "\n",
    "$$\n",
    "\\renewcommand{\\bra}[1]{\\left \\langle #1 \\right \\rvert}\n",
    "\\renewcommand{\\ket}[1]{\\left \\rvert #1 \\right \\rangle}\n",
    "\\renewcommand{\\braket}[2]{\\left \\langle #1 \\middle \\rvert #2 \\right \\rangle}\n",
    "$$\n",
    "\n",
    "\n",
    "[O bramkach dwukubitowych wspominaliśmy juz tutaj](https://sebkaz-teaching.github.io/qml2024/lectures/wyklad4.html#bramki-dwukubitowe)\n",
    "\n",
    "Jedną z bramek realizującą zadania  na dwóch kubitach jest bramka CNOT, która na bazie bitu kontrolnego decyduje czy zastosować operację X do drugiego kubitu.\n",
    "\n",
    "$$\n",
    "\\text{CNOT} = \\begin{bmatrix} 1 \\,\\, \\,\\,\\, 0 \\,\\,\\,\\,\\, 0 \\,\\,\\,\\,\\, 0 \\\\ \n",
    "0\\,\\, \\,\\,\\, 1 \\,\\,\\,\\,\\, 0 \\,\\,\\,\\,\\, 0 \\\\\n",
    "0\\,\\,\\,\\,\\, 0\\,\\,\\,\\,\\,  0 \\,\\,\\,\\,\\, 1 \\\\ 0\\,\\,\\,\\,\\, 0\\,\\,\\,\\,\\, 1\\,\\,\\,\\,\\, 0 \\end{bmatrix}\n",
    "$$\n",
    "\n",
    "$$ \\text{CNOT} \\ket{00} = \\ket{00} $$\n",
    "\n",
    "$$ \\text{CNOT} \\ket{10} = \\ket{11} $$\n",
    "\n"
   ]
  },
  {
   "cell_type": "code",
   "execution_count": null,
   "metadata": {},
   "outputs": [],
   "source": [
    "import pennylane as qml\n",
    "from pennylane import numpy as np \n",
    "\n",
    "dev = qml.device('default.qubit', wires=2, shots=100)\n",
    "\n",
    "@qml.qnode(dev)\n",
    "def qc():\n",
    "    qml.Hadamard(wires=0)\n",
    "    qml.CNOT(wires=[0,1])\n",
    "    #return qml.state()\n",
    "    return qml.counts()\n",
    "\n",
    "qc()"
   ]
  },
  {
   "cell_type": "code",
   "execution_count": null,
   "metadata": {},
   "outputs": [],
   "source": [
    "import pennylane as qml\n",
    "from pennylane import numpy as np \n",
    "\n",
    "dev = qml.device('default.qubit', wires=2, shots=100)\n",
    "\n",
    "@qml.qnode(dev)\n",
    "def qc():\n",
    "    qml.Hadamard(wires=0)\n",
    "    qml.CNOT(wires=[0,1])\n",
    "    qml.X(wires=1)\n",
    "    #return qml.state()\n",
    "    return qml.counts()\n",
    "\n",
    "qc()"
   ]
  },
  {
   "cell_type": "code",
   "execution_count": null,
   "metadata": {},
   "outputs": [],
   "source": [
    "import pennylane as qml\n",
    "from pennylane import numpy as np \n",
    "\n",
    "dev = qml.device('default.qubit', wires=2, shots=100)\n",
    "\n",
    "@qml.qnode(dev)\n",
    "def qc():\n",
    "    qml.Hadamard(wires=0)\n",
    "    qml.CNOT(wires=[0,1])\n",
    "    qml.Z(wires=1)\n",
    "    #return qml.state()\n",
    "    return qml.counts()\n",
    "\n",
    "qc()"
   ]
  },
  {
   "cell_type": "code",
   "execution_count": null,
   "metadata": {},
   "outputs": [],
   "source": [
    "import pennylane as qml\n",
    "from pennylane import numpy as np \n",
    "\n",
    "dev = qml.device('default.qubit', wires=2, shots=100)\n",
    "\n",
    "@qml.qnode(dev)\n",
    "def qc():\n",
    "    qml.Hadamard(wires=0)\n",
    "    qml.CNOT(wires=[0,1])\n",
    "    qml.X(wires=1)\n",
    "    qml.Z(wires=1)\n",
    "    #return qml.state()\n",
    "    return qml.counts()\n",
    "\n",
    "qc()"
   ]
  },
  {
   "cell_type": "code",
   "execution_count": null,
   "metadata": {},
   "outputs": [],
   "source": []
  },
  {
   "cell_type": "code",
   "execution_count": null,
   "metadata": {},
   "outputs": [],
   "source": []
  },
  {
   "cell_type": "code",
   "execution_count": null,
   "metadata": {},
   "outputs": [],
   "source": []
  },
  {
   "cell_type": "code",
   "execution_count": null,
   "metadata": {},
   "outputs": [],
   "source": []
  },
  {
   "cell_type": "code",
   "execution_count": null,
   "metadata": {},
   "outputs": [],
   "source": []
  },
  {
   "cell_type": "code",
   "execution_count": null,
   "metadata": {},
   "outputs": [],
   "source": [
    "import pennylane as qml\n",
    "from pennylane import numpy as np \n",
    "\n",
    "dev = qml.device('default.qubit', wires=4, shots=1)\n",
    "\n",
    "@qml.qnode(dev)\n",
    "def qc():\n",
    "    qml.X(wires=0)\n",
    "    qml.X(wires=1)\n",
    "    qml.CNOT([0,1])\n",
    "    qml.CNOT([0,2])\n",
    "    qml.Toffoli([0,1,3])\n",
    "    return qml.counts(wires=[2,3])\n",
    "\n",
    "qc()\n",
    "\n",
    "print(\"wynik 1+1 =\",int('10', 2))"
   ]
  }
 ],
 "metadata": {
  "language_info": {
   "name": "python"
  }
 },
 "nbformat": 4,
 "nbformat_minor": 2
}
