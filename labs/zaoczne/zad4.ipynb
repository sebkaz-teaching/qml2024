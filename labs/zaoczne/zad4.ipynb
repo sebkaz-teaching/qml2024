{
 "cells": [
  {
   "cell_type": "markdown",
   "metadata": {},
   "source": [
    "Posiadamy 5 przedmiotów a,b,c,d,e, które chcemy zabrać ze sobą. \n",
    "Każda rzecz ma dla nas jakąś wartość którą możemy przypisać do przedmiotu. \n",
    "\n",
    "```python\n",
    "items_values = {\"a\": 8, \"b\": 47, \"c\": 10, \"d\": 5, \"e\": 16}\n",
    "values_list = [8, 47, 10, 5, 16]\n",
    "```\n",
    "Chcemy zoptymalizować wartość zabieranych przedmiotów.  Jednak nasz plecak ,do którego możemy spakować rzeczy może pomieścić tylko określoną wagę naszych przedmiotów. \n",
    "\n",
    "```python\n",
    "max_weight = 26\n",
    "```\n",
    "\n",
    "Każda rzecz powinna mieć określoną swoją wagę. \n",
    "\n",
    "```python\n",
    "items_weight = {\"a\":3, \"b\":11, \"c\":14, \"d\":19, \"e\":5}\n",
    "weight_list = [3,11,14,19.5]\n",
    "```\n",
    "\n",
    "Problem ten jest problemem optymalizacyjnym. \n",
    "\n",
    "Możemy spróbować wszystkich możliwych kombinacji (jest ich $2^n$ gdzie n-liczba przedmiotów - w naszym przypadku istnieją 32 kombinacje)"
   ]
  },
  {
   "cell_type": "code",
   "execution_count": 3,
   "metadata": {},
   "outputs": [
    {
     "name": "stdout",
     "output_type": "stream",
     "text": [
      "Najlepszym rozwiązaniem jest kombinacja ['b', 'c', 'e'] dla której całkowita wartość wynosi: 73 a całkowita waga 25 \n"
     ]
    }
   ],
   "source": [
    "import numpy as np\n",
    "\n",
    "items_values = {\"a\": 8, \"b\": 47, \"c\": 10, \"d\": 5, \"e\": 16}\n",
    "values_list = [8, 47, 10, 5, 16]\n",
    "items_weight = {\"a\":3, \"b\":11, \"c\":14, \"d\":19, \"e\":5}\n",
    "weights_list = [3,11,14,19.5]\n",
    "\n",
    "max_weight = 26\n",
    "\n",
    "def sum_weight(bitstring, items_weight):\n",
    "    weight = 0\n",
    "    for n, i in enumerate(items_weight):\n",
    "        if bitstring[n] == \"1\":\n",
    "            weight += i\n",
    "    return weight\n",
    "\n",
    "\n",
    "def sum_values(bitstring, items_value):\n",
    "    value = 0\n",
    "    for n, i in enumerate(items_value):\n",
    "        if bitstring[n] == \"1\":\n",
    "            value += i\n",
    "    return value\n",
    "\n",
    "items = list(items_values.keys())\n",
    "n_items = len(items)\n",
    "combinations = {}\n",
    "max_value = 0\n",
    "for case_i in range(2**n_items):  # all possible options\n",
    "    combinations[case_i] = {}\n",
    "    bitstring = np.binary_repr(\n",
    "        case_i, n_items\n",
    "    )  # bitstring representation of a possible combination, e.g, \"01100\" in our problem means bringing (-💻📸--)\n",
    "    combinations[case_i][\"items\"] = [items[n] for n, i in enumerate(bitstring) if i == \"1\"]\n",
    "    combinations[case_i][\"value\"] = sum_values(bitstring, values_list)\n",
    "    combinations[case_i][\"weight\"] = sum_values(bitstring, weights_list)\n",
    "    # save the information of the optimal solution (the one that maximizes the value while respecting the maximum weight)\n",
    "    if (\n",
    "        combinations[case_i][\"value\"] > max_value\n",
    "        and combinations[case_i][\"weight\"] <= max_weight\n",
    "    ):\n",
    "        max_value = combinations[case_i][\"value\"]\n",
    "        optimal_solution = {\n",
    "            \"items\": combinations[case_i][\"items\"],\n",
    "            \"value\": combinations[case_i][\"value\"],\n",
    "            \"weight\": combinations[case_i][\"weight\"],\n",
    "        }\n",
    "\n",
    "\n",
    "print(\n",
    "    f\"Najlepszym rozwiązaniem jest kombinacja {optimal_solution['items']} dla której całkowita wartość wynosi: {optimal_solution['value']} a całkowita waga {optimal_solution['weight']} \"\n",
    ")"
   ]
  },
  {
   "cell_type": "markdown",
   "metadata": {},
   "source": [
    "Załóżmy, że dla obliczenie jednej kombinacji trwa $1 ns$."
   ]
  },
  {
   "cell_type": "code",
   "execution_count": 4,
   "metadata": {},
   "outputs": [
    {
     "name": "stdout",
     "output_type": "stream",
     "text": [
      "- For 10 items, 2^10 cases, we need 4e-09 seconds.\n",
      "- For 50 items, 2^50 cases, we need 13 days.\n",
      "- For 100 items, 2^100 cases, we need 40196936841331 years.\n"
     ]
    }
   ],
   "source": [
    "def time_to_solution(n, time_single_case):\n",
    "    \"\"\"\n",
    "        n (int): number of variables\n",
    "        time_single_case (float): time to solve a single case\n",
    "    \"\"\"\n",
    "    return time_single_case * 2 ** n\n",
    "\n",
    "time_per_case = 1e-9 # time to execute a single case in seconds\n",
    "sec_day = 3600 * 24 # seconds in a day\n",
    "sec_year = sec_day * 365 # seconds in a year\n",
    "\n",
    "print(\n",
    "    f\"- For 10 items, 2^10 cases, we need {time_to_solution(2, time_per_case)} seconds.\"\n",
    ")\n",
    "print(\n",
    "    f\"- For 50 items, 2^50 cases, we need {round(time_to_solution(50, time_per_case) / sec_day)} days.\"\n",
    ")\n",
    "print(\n",
    "    f\"- For 100 items, 2^100 cases, we need {round(time_to_solution(100, time_per_case) / sec_year)} years.\"\n",
    ")"
   ]
  },
  {
   "cell_type": "markdown",
   "metadata": {},
   "source": []
  }
 ],
 "metadata": {
  "kernelspec": {
   "display_name": "venv",
   "language": "python",
   "name": "python3"
  },
  "language_info": {
   "codemirror_mode": {
    "name": "ipython",
    "version": 3
   },
   "file_extension": ".py",
   "mimetype": "text/x-python",
   "name": "python",
   "nbconvert_exporter": "python",
   "pygments_lexer": "ipython3",
   "version": "3.11.11"
  }
 },
 "nbformat": 4,
 "nbformat_minor": 2
}
