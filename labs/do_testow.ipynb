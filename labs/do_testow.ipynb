{
 "cells": [
  {
   "cell_type": "code",
   "execution_count": 1,
   "metadata": {},
   "outputs": [],
   "source": [
    "from sklearn.datasets import make_regression\n",
    "import pennylane.numpy as np\n",
    "import pennylane as qml\n",
    "\n",
    "X, y = make_regression(n_samples=100, n_features=2, noise=1, random_state=42)\n",
    "\n",
    "X = np.array(X)\n",
    "y = np.array(y)\n",
    "\n"
   ]
  },
  {
   "cell_type": "code",
   "execution_count": 8,
   "metadata": {},
   "outputs": [],
   "source": [
    "y_std = [(el-y.mean())/y.std() for el in y]"
   ]
  },
  {
   "cell_type": "code",
   "execution_count": 9,
   "metadata": {},
   "outputs": [],
   "source": [
    "\n",
    "dev = qml.device('default.qubit', wires=2)\n",
    "\n",
    "@qml.qnode(dev)\n",
    "def qc2(datapoint, params):\n",
    "    # zakodujemy dane w bramke RX \n",
    "    qml.RX(datapoint[0], wires=0)\n",
    "    qml.RX(datapoint[1], wires=1)\n",
    "    # qml.AngleEmbedding(features=datapoint, wires=dev.wires)\n",
    "    # model to ogólna bramka unitarna zalezna od 3 parametrów\n",
    "    # qml.Rot(params[0], params[1], 0, wires=0)\n",
    "    qml.RX(params[0], wires=0)\n",
    "    qml.RX(params[1], wires=1)\n",
    "    qml.CNOT(wires=[0,1])\n",
    "\n",
    "    # mozna tez\n",
    "    # for i in rane(dev.wires)):\n",
    "    #    qml.RX(params[i], wires=i)\n",
    "\n",
    "    # bedziemy zwracali wartosc oczekiwana operatora Z \n",
    "    return qml.expval(qml.PauliZ(wires=0))"
   ]
  },
  {
   "cell_type": "code",
   "execution_count": 10,
   "metadata": {},
   "outputs": [],
   "source": [
    "def loss_func(predictions):\n",
    "    total_losses = 0 \n",
    "    for i in range(len(y_std)):\n",
    "        output = y_std[i]\n",
    "        prediction = predictions[i]\n",
    "        loss = (prediction - output)**2\n",
    "        total_losses += loss\n",
    "    return total_losses\n",
    "\n",
    "def cost_fn(params):\n",
    "    predictions = [qc2(x, params) for x in X]\n",
    "    cost = loss_func(predictions)\n",
    "    return cost"
   ]
  },
  {
   "cell_type": "code",
   "execution_count": 16,
   "metadata": {},
   "outputs": [
    {
     "name": "stdout",
     "output_type": "stream",
     "text": [
      "Step = 10 Cost = 150.11150403462875 for params: [-0.00738039  0.09591009]\n"
     ]
    }
   ],
   "source": [
    "opt1 = qml.GradientDescentOptimizer(stepsize=0.001)\n",
    "\n",
    "params1 = np.array([0.05, 0.05], requires_grad=True)\n",
    "\n",
    "epochs = 10\n",
    "\n",
    "for epoch in range(epochs):\n",
    "    \n",
    "    params1, prev_cost1 = opt1.step_and_cost(cost_fn, params1)\n",
    "    if (epoch+1)%10 == 0:\n",
    "        print(f\"Step = {epoch+1} Cost = {cost_fn(params1)} for params: {params1}\")"
   ]
  },
  {
   "cell_type": "code",
   "execution_count": 18,
   "metadata": {},
   "outputs": [],
   "source": [
    "import random\n",
    "init_param = [random.uniform(0, 2*3.1415) for _ in range(2)]"
   ]
  },
  {
   "cell_type": "code",
   "execution_count": 19,
   "metadata": {},
   "outputs": [
    {
     "data": {
      "text/plain": [
       "[5.94068465726165, 5.438415845995134]"
      ]
     },
     "execution_count": 19,
     "metadata": {},
     "output_type": "execute_result"
    }
   ],
   "source": [
    "init_param"
   ]
  },
  {
   "cell_type": "code",
   "execution_count": 84,
   "metadata": {},
   "outputs": [],
   "source": [
    "dev = qml.device(\"default.qubit\", wires=1)\n",
    "\n",
    "##################\n",
    "# YOUR CODE HERE #\n",
    "##################\n",
    "\n",
    "# ADJUST THE VALUES OF PHI, THETA, AND OMEGA\n",
    "phi, theta, omega = np.pi, np.pi/2, np.pi\n",
    "\n",
    "\n",
    "@qml.qnode(dev)\n",
    "def hadamard_with_rz_rx():\n",
    "    qml.RZ(phi, wires=0)\n",
    "    qml.RX(theta, wires=0)\n",
    "    qml.RZ(omega, wires=0)\n",
    "    # qml.Hadamard(wires=0)\n",
    "    return qml.state(),qml.probs()"
   ]
  },
  {
   "cell_type": "code",
   "execution_count": 85,
   "metadata": {},
   "outputs": [
    {
     "data": {
      "text/plain": [
       "(tensor([-0.70710678-8.65956056e-17j,  0.        -7.07106781e-01j], requires_grad=True),\n",
       " tensor([0.5, 0.5], requires_grad=True))"
      ]
     },
     "execution_count": 85,
     "metadata": {},
     "output_type": "execute_result"
    }
   ],
   "source": [
    "hadamard_with_rz_rx()"
   ]
  },
  {
   "cell_type": "code",
   "execution_count": 77,
   "metadata": {},
   "outputs": [
    {
     "data": {
      "text/plain": [
       "(-1+1.2246467991473532e-16j)"
      ]
     },
     "execution_count": 77,
     "metadata": {},
     "output_type": "execute_result"
    }
   ],
   "source": [
    "np.exp(np.pi* 1.j)"
   ]
  },
  {
   "cell_type": "code",
   "execution_count": null,
   "metadata": {},
   "outputs": [],
   "source": []
  }
 ],
 "metadata": {
  "kernelspec": {
   "display_name": "venv",
   "language": "python",
   "name": "python3"
  },
  "language_info": {
   "codemirror_mode": {
    "name": "ipython",
    "version": 3
   },
   "file_extension": ".py",
   "mimetype": "text/x-python",
   "name": "python",
   "nbconvert_exporter": "python",
   "pygments_lexer": "ipython3",
   "version": "3.11.11"
  }
 },
 "nbformat": 4,
 "nbformat_minor": 2
}
