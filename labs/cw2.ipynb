{
 "cells": [
  {
   "cell_type": "markdown",
   "metadata": {},
   "source": [
    "## Konstrukcja obwodów kwantowych w Pennylane\n",
    "\n",
    "\n",
    "Obwody kwantowe składają się z rejestrów, które reprezentują poszczególne kubity.\n",
    "\n",
    "![kibu1](../img/kubity1.png)\n",
    "\n",
    "Domyślnie kubity inicjalizujemy w stanie 0.\n",
    "\n",
    "![kibu2](../img/kubity2.png)\n",
    "\n",
    "\n",
    "Liczbę rejestrów możesz ustalić parametrem `wires` przy definicji środowiska wykonawczego `device`. \n",
    "\n",
    "```python\n",
    "dev = qml.device(\"default.qubit\", wires=1)\n",
    "```\n",
    "\n",
    "\n",
    "Operacje wykonywane na kubitach nazywamy bramkami. \n",
    "Operacje te można wykonywać na jednym albo i wielu kubitach na raz. \n",
    "Domyślnie będziemy optymalizować algortymy aby składały się z jak najmniejszej ilości bramek działających na dużą liczbę kubitów. \n",
    "\n",
    "\n",
    "Graficznie można rozumieć realizację algorytmu jako stosowanie bramek na poszczególnych kubitach.\n",
    "\n",
    "![kibu2](../img/obwod1.png)\n",
    "\n",
    "\n",
    "\n",
    "W bibliotece PennyLane, `obwody kwantowe` reprezentowane są przez `kwantowe funkcje`, realizowane przez klasyczne funkcje w pythonie. \n",
    "\n",
    "Schemat kodu penny lane możemy zapisać jako: \n",
    "\n",
    "```python\n",
    "import pennylane as qml\n",
    "\n",
    "def my_quantum_function(params):\n",
    "\n",
    "    # Single-qubit operations with no input parameters\n",
    "    qml.Gate1(wires=0)\n",
    "    qml.Gate2(wires=1)\n",
    "\n",
    "    # A single-qubit operation with an input parameter\n",
    "    qml.Gate3(params[0], wires=0)\n",
    "\n",
    "    # Two-qubit operation with no input parameter on wires 0 and 1\n",
    "    qml.TwoQubitGate1(wires=[0, 1])\n",
    "\n",
    "    # Two-qubit operation with an input parameter on wires 0 and 1\n",
    "    qml.TwoQubitGate2(params[1], wires=[0, 1])\n",
    "\n",
    "    # Return the result of a measurement\n",
    "    return qml.Measurement(wires=[0, 1])\n",
    "```\n",
    "\n",
    "Przykładowo\n",
    "\n",
    "![](../img/przyklad1.png)\n",
    "\n",
    "\n",
    "```python\n",
    "\n",
    "def my_first_circuit(theta):\n",
    "\n",
    "    qml.Hadamard(wires = 0)\n",
    "    qml.CNOT(wires = [0,1])\n",
    "    qml.RZ(theta, wires = 0)\n",
    "\n",
    "    return qml.probs(wires = [0,1])\n",
    "```\n",
    "\n",
    "![](../img/pennylane1.png)\n",
    "\n",
    "\n",
    "Matematycznie całość możemy zapisać jako: \n",
    "\n",
    "![](../img/stanpennylane.png)"
   ]
  },
  {
   "cell_type": "code",
   "execution_count": 52,
   "metadata": {},
   "outputs": [
    {
     "data": {
      "text/plain": [
       "tensor([4.32978028e-17-0.70710678j, 0.00000000e+00+0.j        ,\n",
       "        0.00000000e+00+0.j        , 4.32978028e-17+0.70710678j], requires_grad=True)"
      ]
     },
     "execution_count": 52,
     "metadata": {},
     "output_type": "execute_result"
    }
   ],
   "source": [
    "import pennylane as qml\n",
    "from pennylane import numpy as np\n",
    "\n",
    "dev = qml.device(\"default.qubit\", wires=2)\n",
    "#dev = qml.device(\"default.qubit\", wires=2, shots=1000)\n",
    "\n",
    "@qml.qnode(dev)\n",
    "def circ(theta):\n",
    "    qml.Hadamard(wires = 0)\n",
    "    qml.CNOT(wires = [0,1])\n",
    "    qml.RZ(theta, wires = 0)\n",
    "    return qml.state()\n",
    "    return qml.probs(wires = [0,1])\n",
    "\n",
    "circ(np.pi)"
   ]
  },
  {
   "cell_type": "code",
   "execution_count": 1,
   "metadata": {},
   "outputs": [],
   "source": [
    "import pennylane as qml\n",
    "\n",
    "dev = qml.device(\"default.qubit\", wires=1, shots=100)\n",
    "\n",
    "@qml.qnode(dev)\n",
    "def circ():\n",
    "    qml.Hadamard(wires=0)\n",
    "    return qml.counts()"
   ]
  },
  {
   "cell_type": "code",
   "execution_count": 2,
   "metadata": {},
   "outputs": [
    {
     "data": {
      "text/plain": [
       "{'0': tensor(56, requires_grad=True), '1': tensor(44, requires_grad=True)}"
      ]
     },
     "execution_count": 2,
     "metadata": {},
     "output_type": "execute_result"
    }
   ],
   "source": [
    "circ()"
   ]
  },
  {
   "cell_type": "code",
   "execution_count": 3,
   "metadata": {},
   "outputs": [
    {
     "name": "stdout",
     "output_type": "stream",
     "text": [
      "0: ──H─┤  Counts\n"
     ]
    }
   ],
   "source": [
    "print(qml.draw(circ)())"
   ]
  },
  {
   "cell_type": "code",
   "execution_count": 4,
   "metadata": {},
   "outputs": [
    {
     "data": {
      "text/plain": [
       "(<Figure size 400x200 with 1 Axes>, <Axes: >)"
      ]
     },
     "execution_count": 4,
     "metadata": {},
     "output_type": "execute_result"
    },
    {
     "data": {
      "image/png": "[encoded data removed]",
      "text/plain": [
       "<Figure size 400x200 with 1 Axes>"
      ]
     },
     "metadata": {},
     "output_type": "display_data"
    }
   ],
   "source": [
    "qml.draw_mpl(circ)()"
   ]
  },
  {
   "cell_type": "code",
   "execution_count": 5,
   "metadata": {},
   "outputs": [
    {
     "data": {
      "image/png": "[encoded data removed]",
      "text/plain": [
       "<Figure size 400x200 with 1 Axes>"
      ]
     },
     "metadata": {},
     "output_type": "display_data"
    }
   ],
   "source": [
    "import matplotlib.pyplot as plt\n",
    "qml.drawer.use_style(\"sketch\")\n",
    "fig, ax = qml.draw_mpl(circ)()\n",
    "plt.show()"
   ]
  },
  {
   "cell_type": "code",
   "execution_count": 6,
   "metadata": {},
   "outputs": [
    {
     "name": "stderr",
     "output_type": "stream",
     "text": [
      "Matplotlib is building the font cache; this may take a moment.\n"
     ]
    },
    {
     "data": {
      "image/png": "[encoded data removed]",
      "text/plain": [
       "<Figure size 400x200 with 1 Axes>"
      ]
     },
     "metadata": {},
     "output_type": "display_data"
    }
   ],
   "source": [
    "qml.drawer.use_style(\"pennylane_sketch\")\n",
    "fig, ax = qml.draw_mpl(circ)()\n",
    "plt.show()"
   ]
  },
  {
   "cell_type": "markdown",
   "metadata": {},
   "source": [
    "## STANY JEDNO KUBITOWE\n",
    "\n",
    "$$\n",
    "\\ket{\\psi}=\\ket{0}\n",
    "$$"
   ]
  },
  {
   "cell_type": "code",
   "execution_count": 7,
   "metadata": {},
   "outputs": [],
   "source": [
    "dev = qml.device(\"default.qubit\", wires=1)\n",
    "@qml.qnode(dev)\n",
    "def qc():\n",
    "    return qml.state()"
   ]
  },
  {
   "cell_type": "code",
   "execution_count": 8,
   "metadata": {},
   "outputs": [
    {
     "data": {
      "text/plain": [
       "tensor([1.+0.j, 0.+0.j], requires_grad=True)"
      ]
     },
     "execution_count": 8,
     "metadata": {},
     "output_type": "execute_result"
    }
   ],
   "source": [
    "qc()"
   ]
  },
  {
   "cell_type": "markdown",
   "metadata": {},
   "source": [
    "$$\n",
    "\\ket{\\psi}=\\ket{1}\n",
    "$$"
   ]
  },
  {
   "cell_type": "code",
   "execution_count": 9,
   "metadata": {},
   "outputs": [],
   "source": [
    "from pennylane import numpy as np\n",
    "from pennylane.ops import StatePrep"
   ]
  },
  {
   "cell_type": "code",
   "execution_count": 10,
   "metadata": {},
   "outputs": [
    {
     "data": {
      "text/plain": [
       "tensor([0.+0.j, 1.+0.j], requires_grad=True)"
      ]
     },
     "execution_count": 10,
     "metadata": {},
     "output_type": "execute_result"
    }
   ],
   "source": [
    "stan = np.array([0,1])\n",
    "\n",
    "@qml.qnode(dev)\n",
    "def circuit():\n",
    "    StatePrep(stan, wires=0)\n",
    "    return qml.state()\n",
    "\n",
    "circuit()"
   ]
  },
  {
   "cell_type": "code",
   "execution_count": 11,
   "metadata": {},
   "outputs": [
    {
     "data": {
      "text/plain": [
       "tensor([0.70710678+0.j, 0.70710678+0.j], requires_grad=True)"
      ]
     },
     "execution_count": 11,
     "metadata": {},
     "output_type": "execute_result"
    }
   ],
   "source": [
    "@qml.qnode(dev)\n",
    "def qc():\n",
    "    qml.Hadamard(wires=0)\n",
    "    return qml.state()\n",
    "\n",
    "qc()"
   ]
  },
  {
   "cell_type": "markdown",
   "metadata": {},
   "source": [
    "$$\n",
    "\\ket{\\psi}=\\frac{1}{\\sqrt{2}} (\\ket{0} + \\ket{1} ) \n",
    "$$"
   ]
  },
  {
   "cell_type": "code",
   "execution_count": 12,
   "metadata": {},
   "outputs": [
    {
     "data": {
      "text/plain": [
       "tensor([0.70710678+0.j, 0.70710678+0.j], requires_grad=True)"
      ]
     },
     "execution_count": 12,
     "metadata": {},
     "output_type": "execute_result"
    }
   ],
   "source": [
    "stan = np.array([1/np.sqrt(2), 1/np.sqrt(2)])\n",
    "\n",
    "@qml.qnode(dev)\n",
    "def qc_0():\n",
    "    qml.StatePrep(stan,wires=0)\n",
    "    return qml.state()\n",
    "\n",
    "qc_0()"
   ]
  },
  {
   "cell_type": "markdown",
   "metadata": {},
   "source": [
    "## STANY DWU KUBITOWE\n",
    "\n",
    "$$\n",
    "\\ket{\\psi}=\\ket{00}\n",
    "$$\n",
    "$$\n",
    "\\ket{\\psi}=\\ket{01}\n",
    "$$\n",
    "$$\n",
    "\\ket{\\psi}=\\ket{10}\n",
    "$$\n",
    "$$\n",
    "\\ket{\\psi}=\\ket{11}\n",
    "$$"
   ]
  },
  {
   "cell_type": "code",
   "execution_count": 13,
   "metadata": {},
   "outputs": [
    {
     "data": {
      "text/plain": [
       "tensor([1.+0.j, 0.+0.j, 0.+0.j, 0.+0.j], requires_grad=True)"
      ]
     },
     "execution_count": 13,
     "metadata": {},
     "output_type": "execute_result"
    }
   ],
   "source": [
    "dev = qml.device(\"default.qubit\", wires=2)\n",
    "@qml.qnode(dev)\n",
    "def qc():\n",
    "    #qml.X(wires=1)\n",
    "    #qml.X(wires=0)\n",
    "    return qml.state()\n",
    "\n",
    "qc()"
   ]
  },
  {
   "cell_type": "markdown",
   "metadata": {},
   "source": [
    "$$\n",
    "\\ket{\\psi}=\\frac{1}{2}\\left( \\ket{00} + \\ket{01} + \\ket{10} + \\ket{11} \\right)\n",
    "$$"
   ]
  },
  {
   "cell_type": "code",
   "execution_count": 14,
   "metadata": {},
   "outputs": [
    {
     "data": {
      "text/plain": [
       "tensor([0.5+0.j, 0.5+0.j, 0.5+0.j, 0.5+0.j], requires_grad=True)"
      ]
     },
     "execution_count": 14,
     "metadata": {},
     "output_type": "execute_result"
    }
   ],
   "source": [
    "dev = qml.device(\"default.qubit\", wires=2)\n",
    "@qml.qnode(dev)\n",
    "def qc():\n",
    "    qml.Hadamard(wires=0)\n",
    "    qml.Hadamard(wires=1)\n",
    "    return qml.state()\n",
    "\n",
    "qc()"
   ]
  },
  {
   "cell_type": "markdown",
   "metadata": {},
   "source": [
    "## Bramki jedno i dwu kubitowe"
   ]
  },
  {
   "cell_type": "markdown",
   "metadata": {},
   "source": [
    "### Bramka X\n",
    "\n",
    "Bramka X-gate reprezentowana jest przez macierz Pauli-X : \n",
    "\n",
    "$$\n",
    "X = \\begin{pmatrix}\n",
    "0 & 1 \\\\\n",
    "1 & 0 \\\\\n",
    "\\end{pmatrix}\n",
    "$$\n",
    "\n",
    "\n",
    "Bramka X obraca kubit w kierunku osi na sferze Bloch'a o $\\pi$ radianów.\n",
    "Zmienia $|0\\rangle$ na $|1\\rangle$ oraz $|1\\rangle$ na $|0\\rangle$.\n",
    "Jest często nazywana kwantowym odpowiednikiem bramki NOT lub określana jako `bit-flip`."
   ]
  },
  {
   "cell_type": "code",
   "execution_count": 15,
   "metadata": {},
   "outputs": [
    {
     "data": {
      "text/plain": [
       "tensor([0.+0.j, 1.+0.j], requires_grad=True)"
      ]
     },
     "execution_count": 15,
     "metadata": {},
     "output_type": "execute_result"
    }
   ],
   "source": [
    "dev = qml.device(\"default.qubit\", wires=1)\n",
    "@qml.qnode(dev)\n",
    "def qc():\n",
    "    qml.X(wires=0)\n",
    "    return qml.state()\n",
    "\n",
    "qc()"
   ]
  },
  {
   "cell_type": "code",
   "execution_count": 16,
   "metadata": {},
   "outputs": [
    {
     "data": {
      "text/plain": [
       "tensor([0.+0.j, 1.+0.j], requires_grad=True)"
      ]
     },
     "execution_count": 16,
     "metadata": {},
     "output_type": "execute_result"
    }
   ],
   "source": [
    "dev = qml.device(\"default.qubit\", wires=1)\n",
    "@qml.qnode(dev)\n",
    "def qc():\n",
    "    qml.PauliX(wires=0)\n",
    "    return qml.state()\n",
    "\n",
    "qc()"
   ]
  },
  {
   "cell_type": "code",
   "execution_count": 17,
   "metadata": {},
   "outputs": [
    {
     "data": {
      "text/plain": [
       "(<Figure size 400x200 with 1 Axes>, <Axes: >)"
      ]
     },
     "execution_count": 17,
     "metadata": {},
     "output_type": "execute_result"
    },
    {
     "data": {
      "image/png": "[encoded data removed]",
      "text/plain": [
       "<Figure size 400x200 with 1 Axes>"
      ]
     },
     "metadata": {},
     "output_type": "display_data"
    }
   ],
   "source": [
    "qml.draw_mpl(qc)()"
   ]
  },
  {
   "cell_type": "code",
   "execution_count": 18,
   "metadata": {},
   "outputs": [
    {
     "data": {
      "text/plain": [
       "tensor([1.+0.j, 0.+0.j], requires_grad=True)"
      ]
     },
     "execution_count": 18,
     "metadata": {},
     "output_type": "execute_result"
    },
    {
     "data": {
      "image/png": "[encoded data removed]",
      "text/plain": [
       "<Figure size 500x200 with 1 Axes>"
      ]
     },
     "metadata": {},
     "output_type": "display_data"
    }
   ],
   "source": [
    "dev = qml.device(\"default.qubit\", wires=1)\n",
    "@qml.qnode(dev)\n",
    "def qc():\n",
    "    qml.PauliX(wires=0)\n",
    "    qml.X(wires=0)\n",
    "    return qml.state()\n",
    "\n",
    "qml.draw_mpl(qc)()\n",
    "qc()"
   ]
  },
  {
   "cell_type": "markdown",
   "metadata": {},
   "source": [
    "### bramka SX\n",
    "\n",
    "Bramka SX jest pierwiastkiem kwadratowym bramki X. Dwukrotne zastosowanie powinno reazlizowac bramkę X.\n",
    "\n",
    "$$\n",
    "SX = \\frac{1}{2}\\begin{pmatrix}\n",
    "1+i & 1-i \\\\\n",
    "1-i & 1+i \\\\\n",
    "\\end{pmatrix}\n",
    "$$"
   ]
  },
  {
   "cell_type": "code",
   "execution_count": 19,
   "metadata": {},
   "outputs": [
    {
     "data": {
      "text/plain": [
       "tensor([0.5+0.5j, 0.5-0.5j], requires_grad=True)"
      ]
     },
     "execution_count": 19,
     "metadata": {},
     "output_type": "execute_result"
    },
    {
     "data": {
      "image/png": "[encoded data removed]",
      "text/plain": [
       "<Figure size 400x200 with 1 Axes>"
      ]
     },
     "metadata": {},
     "output_type": "display_data"
    }
   ],
   "source": [
    "dev = qml.device(\"default.qubit\", wires=1)\n",
    "@qml.qnode(dev)\n",
    "def qc():\n",
    "    qml.SX(wires=0)\n",
    "    return qml.state()\n",
    "\n",
    "qml.draw_mpl(qc)()\n",
    "qc()"
   ]
  },
  {
   "cell_type": "code",
   "execution_count": 20,
   "metadata": {},
   "outputs": [
    {
     "data": {
      "text/plain": [
       "tensor([0.+0.j, 1.+0.j], requires_grad=True)"
      ]
     },
     "execution_count": 20,
     "metadata": {},
     "output_type": "execute_result"
    },
    {
     "data": {
      "image/png": "[encoded data removed]",
      "text/plain": [
       "<Figure size 500x200 with 1 Axes>"
      ]
     },
     "metadata": {},
     "output_type": "display_data"
    }
   ],
   "source": [
    "dev = qml.device(\"default.qubit\", wires=1)\n",
    "@qml.qnode(dev)\n",
    "def qc():\n",
    "    qml.SX(wires=0)\n",
    "    qml.SX(wires=0)\n",
    "    return qml.state()\n",
    "\n",
    "qml.draw_mpl(qc)()\n",
    "qc()"
   ]
  },
  {
   "cell_type": "markdown",
   "metadata": {},
   "source": [
    "### Z gate\n",
    "\n",
    "$$\n",
    "Z = \\begin{pmatrix}\n",
    "1 & 0 \\\\\n",
    "0 & -1 \\\\\n",
    "\\end{pmatrix}\n",
    "$$"
   ]
  },
  {
   "cell_type": "code",
   "execution_count": 21,
   "metadata": {},
   "outputs": [
    {
     "data": {
      "text/plain": [
       "tensor([ 1.+0.j, -0.+0.j], requires_grad=True)"
      ]
     },
     "execution_count": 21,
     "metadata": {},
     "output_type": "execute_result"
    },
    {
     "data": {
      "image/png": "[encoded data removed]",
      "text/plain": [
       "<Figure size 400x200 with 1 Axes>"
      ]
     },
     "metadata": {},
     "output_type": "display_data"
    }
   ],
   "source": [
    "dev = qml.device(\"default.qubit\", wires=1)\n",
    "@qml.qnode(dev)\n",
    "def qc():\n",
    "    qml.Z(wires=0)\n",
    "    return qml.state()\n",
    "\n",
    "qml.draw_mpl(qc)()\n",
    "qc()"
   ]
  },
  {
   "cell_type": "code",
   "execution_count": 22,
   "metadata": {},
   "outputs": [
    {
     "data": {
      "text/plain": [
       "tensor([ 1.+0.j, -0.+0.j], requires_grad=True)"
      ]
     },
     "execution_count": 22,
     "metadata": {},
     "output_type": "execute_result"
    },
    {
     "data": {
      "image/png": "[encoded data removed]",
      "text/plain": [
       "<Figure size 400x200 with 1 Axes>"
      ]
     },
     "metadata": {},
     "output_type": "display_data"
    }
   ],
   "source": [
    "dev = qml.device(\"default.qubit\", wires=1)\n",
    "@qml.qnode(dev)\n",
    "def qc():\n",
    "    qml.PauliZ(wires=0)\n",
    "    return qml.state()\n",
    "\n",
    "qml.draw_mpl(qc)()\n",
    "qc()"
   ]
  },
  {
   "cell_type": "markdown",
   "metadata": {},
   "source": [
    "### RZ gate\n",
    "\n",
    "$$ R_Z(\\phi) = e^{-i \\phi \\frac{\\sigma_z}{2} }  $$\n",
    "\n",
    "$$\n",
    "RZ = \\begin{pmatrix}\n",
    "e ^{-i \\frac{\\phi}{2} } & 0 \\\\\n",
    "0 & e ^{i \\frac{\\phi}{2} } \\\\\n",
    "\\end{pmatrix}\n",
    "$$"
   ]
  },
  {
   "cell_type": "code",
   "execution_count": 32,
   "metadata": {},
   "outputs": [
    {
     "data": {
      "text/plain": [
       "tensor([0.70710678-0.70710678j, 0.        +0.j        ], requires_grad=True)"
      ]
     },
     "execution_count": 32,
     "metadata": {},
     "output_type": "execute_result"
    }
   ],
   "source": [
    "from pennylane import numpy as np\n",
    "\n",
    "dev = qml.device(\"default.qubit\", wires=1)\n",
    "@qml.qnode(dev)\n",
    "\n",
    "\n",
    "def qc(phi):\n",
    "    qml.RZ(phi=phi, wires=0)\n",
    "    return qml.state()\n",
    "\n",
    "qc(np.pi/2)"
   ]
  },
  {
   "cell_type": "code",
   "execution_count": 38,
   "metadata": {},
   "outputs": [
    {
     "data": {
      "text/plain": [
       "(<Figure size 400x200 with 1 Axes>, <Axes: >)"
      ]
     },
     "execution_count": 38,
     "metadata": {},
     "output_type": "execute_result"
    },
    {
     "data": {
      "image/png": "[encoded data removed]",
      "text/plain": [
       "<Figure size 400x200 with 1 Axes>"
      ]
     },
     "metadata": {},
     "output_type": "display_data"
    }
   ],
   "source": [
    "qml.draw_mpl(qc)(np.pi/2)"
   ]
  },
  {
   "cell_type": "code",
   "execution_count": 40,
   "metadata": {},
   "outputs": [
    {
     "data": {
      "text/plain": [
       "tensor([0.5-0.5j, 0.5+0.5j], requires_grad=True)"
      ]
     },
     "execution_count": 40,
     "metadata": {},
     "output_type": "execute_result"
    }
   ],
   "source": [
    "from pennylane import numpy as np\n",
    "\n",
    "dev = qml.device(\"default.qubit\", wires=1)\n",
    "@qml.qnode(dev)\n",
    "\n",
    "\n",
    "def qc(phi):\n",
    "    qml.SX(wires=0)\n",
    "    qml.RZ(phi=phi, wires=0)\n",
    "    return qml.state()\n",
    "\n",
    "qc(np.pi)"
   ]
  },
  {
   "cell_type": "markdown",
   "metadata": {},
   "source": [
    "## Hadamard gate\n",
    "Bramka Hadamarda przetwarza stan $|0\\rangle$ na kombinacje liniowa (superpozycje) $\\frac{|0\\rangle + |1\\rangle}{\\sqrt{2}}$, co oznacza, że pomiar zwróci z takim samym prawdopodobieństwem stanu `1` lub `0`. \n",
    "Stan ten często oznaczany jest jako: $|+\\rangle$. \n",
    "\n",
    "$$\n",
    "H = \\frac{1}{\\sqrt{2}}\\begin{pmatrix}\n",
    "1 & 1 \\\\\n",
    "1 & -1 \\\\\n",
    "\\end{pmatrix}\n",
    "$$"
   ]
  },
  {
   "cell_type": "code",
   "execution_count": 42,
   "metadata": {},
   "outputs": [
    {
     "data": {
      "text/plain": [
       "tensor([0.70710678+0.j, 0.70710678+0.j], requires_grad=True)"
      ]
     },
     "execution_count": 42,
     "metadata": {},
     "output_type": "execute_result"
    }
   ],
   "source": [
    "dev = qml.device(\"default.qubit\", wires=1)\n",
    "@qml.qnode(dev)\n",
    "\n",
    "\n",
    "def qc():\n",
    "    qml.Hadamard(wires=0)\n",
    "    return qml.state()\n",
    "\n",
    "qc()"
   ]
  },
  {
   "cell_type": "code",
   "execution_count": 43,
   "metadata": {},
   "outputs": [
    {
     "data": {
      "text/plain": [
       "tensor([1.+0.j, 0.+0.j], requires_grad=True)"
      ]
     },
     "execution_count": 43,
     "metadata": {},
     "output_type": "execute_result"
    }
   ],
   "source": [
    "dev = qml.device(\"default.qubit\", wires=1)\n",
    "@qml.qnode(dev)\n",
    "\n",
    "\n",
    "def qc():\n",
    "    qml.Hadamard(wires=0)\n",
    "    qml.Hadamard(wires=0)\n",
    "    return qml.state()\n",
    "\n",
    "qc()"
   ]
  },
  {
   "cell_type": "markdown",
   "metadata": {},
   "source": [
    "https://pennylane.ai/codebook/02-single-qubit-gates/01-x-and-h - zadanie\n",
    "\n",
    "\n",
    "### Obwody parametryczne\n",
    "\n",
    "![](../img/mecierzeobrotu.png)\n",
    "\n",
    "\n",
    "![]()"
   ]
  },
  {
   "cell_type": "code",
   "execution_count": null,
   "metadata": {},
   "outputs": [],
   "source": []
  }
 ],
 "metadata": {
  "kernelspec": {
   "display_name": "venv",
   "language": "python",
   "name": "python3"
  },
  "language_info": {
   "codemirror_mode": {
    "name": "ipython",
    "version": 3
   },
   "file_extension": ".py",
   "mimetype": "text/x-python",
   "name": "python",
   "nbconvert_exporter": "python",
   "pygments_lexer": "ipython3",
   "version": "3.11.10"
  }
 },
 "nbformat": 4,
 "nbformat_minor": 2
}
