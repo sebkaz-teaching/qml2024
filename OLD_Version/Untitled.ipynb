{
 "cells": [
  {
   "cell_type": "code",
   "execution_count": 1,
   "id": "7bbe56b9-c7ef-4fbe-8f33-2895c5f52c76",
   "metadata": {},
   "outputs": [],
   "source": [
    "from sklearn.datasets import make_classification\n",
    "import torch\n",
    "import numpy as np\n",
    "import matplotlib.pyplot as plt\n",
    "\n",
    "\n",
    "X, y = make_classification(n_samples=10**3, n_features=10 ,random_state=42)\n",
    "\n",
    "\n",
    "X_train = torch.from_numpy(X.astype(np.float32))\n",
    "y_train = torch.from_numpy(y.astype(np.float32))\n",
    "\n",
    "y_train = y_train.view(y_train.shape[0], 1)"
   ]
  },
  {
   "cell_type": "code",
   "execution_count": 2,
   "id": "3d07afbc-642d-4f2b-8189-422aced51794",
   "metadata": {},
   "outputs": [],
   "source": [
    "class LogisticRegression(torch.nn.Module):\n",
    "\n",
    "    def __init__(self, inputSize, outputSize):\n",
    "        super(LogisticRegression, self).__init__()\n",
    "        self.linear = torch.nn.Linear(inputSize, outputSize)\n",
    "\n",
    "    def forward(self, x):\n",
    "        x = self.linear(x)\n",
    "        y_pred = torch.sigmoid(x)\n",
    "        return y_pred\n",
    "\n",
    "\n",
    "inputDim = X_train.shape[1]\n",
    "outputDim = y_train.shape[1]\n",
    "learningRate = 0.01\n",
    "epochs = 100\n",
    "\n",
    "model = LogisticRegression(inputDim, outputDim)"
   ]
  },
  {
   "cell_type": "code",
   "execution_count": 3,
   "id": "2703898b-cc14-4bb2-b687-05572398ed54",
   "metadata": {},
   "outputs": [],
   "source": [
    "#criterion = torch.nn.CrossEntropyLoss()\n",
    "optimizer = torch.optim.SGD(model.parameters(), lr=learningRate)\n",
    "criterion = torch.nn.BCELoss()"
   ]
  },
  {
   "cell_type": "code",
   "execution_count": null,
   "id": "da112dd2-d558-4fbf-9a7b-08ec80f52da2",
   "metadata": {},
   "outputs": [],
   "source": [
    "a = model(X_train[:2])"
   ]
  },
  {
   "cell_type": "code",
   "execution_count": null,
   "id": "4ca0e0d0-5e24-45fa-93d2-86bfe59788fc",
   "metadata": {},
   "outputs": [],
   "source": [
    "a"
   ]
  },
  {
   "cell_type": "code",
   "execution_count": null,
   "id": "5fed5a32-485e-4fa0-9d88-1b5615555c6b",
   "metadata": {},
   "outputs": [],
   "source": [
    "loss = criterion(a, y_train[0:2])"
   ]
  },
  {
   "cell_type": "code",
   "execution_count": null,
   "id": "7e52f35b-9e76-4675-9b10-39c5c79fda8f",
   "metadata": {},
   "outputs": [],
   "source": [
    "loss"
   ]
  },
  {
   "cell_type": "code",
   "execution_count": 11,
   "id": "bf4a6385-f194-4f8b-ac38-32910a212715",
   "metadata": {},
   "outputs": [
    {
     "name": "stdout",
     "output_type": "stream",
     "text": [
      "epoch: 25, loss = 0.3552\n",
      "epoch: 50, loss = 0.3537\n",
      "epoch: 75, loss = 0.3524\n",
      "epoch: 100, loss = 0.3511\n",
      "epoch: 125, loss = 0.3500\n",
      "epoch: 150, loss = 0.3489\n",
      "epoch: 175, loss = 0.3479\n",
      "epoch: 200, loss = 0.3469\n"
     ]
    }
   ],
   "source": [
    "\n",
    "# training loop\n",
    "num_epochs = 200\n",
    "\n",
    "for epoch in range(num_epochs):\n",
    "    # forward pass and loss\n",
    "    y_predicted = model(X_train)\n",
    "    loss = criterion(y_predicted, y_train)\n",
    "    \n",
    "    # backward pass\n",
    "    loss.backward()\n",
    "    \n",
    "    # updates\n",
    "    optimizer.step()\n",
    "    \n",
    "    # zero gradients\n",
    "    optimizer.zero_grad()\n",
    "    \n",
    "    if (epoch+1) % 25 == 0:\n",
    "        print(f'epoch: {epoch+1}, loss = {loss.item():.4f}')"
   ]
  },
  {
   "cell_type": "code",
   "execution_count": 12,
   "id": "4fc3bfa0-4a05-4da9-aa99-72bd93131d81",
   "metadata": {},
   "outputs": [
    {
     "name": "stdout",
     "output_type": "stream",
     "text": [
      "accuracy = 0.8650\n"
     ]
    }
   ],
   "source": [
    "with torch.no_grad():\n",
    "    y_predicted = model(X_train)  # no need to call model.forward()\n",
    "    y_predicted_cls = y_predicted.round()   # round off to nearest class\n",
    "    acc = y_predicted_cls.eq(y_train).sum() / float(y_train.shape[0])  # accuracy\n",
    "    print(f'accuracy = {acc:.4f}')"
   ]
  },
  {
   "cell_type": "code",
   "execution_count": null,
   "id": "1ce048db-ec98-4b69-af8c-45b164b91f5b",
   "metadata": {},
   "outputs": [],
   "source": []
  }
 ],
 "metadata": {
  "kernelspec": {
   "display_name": "Python 3 (ipykernel)",
   "language": "python",
   "name": "python3"
  },
  "language_info": {
   "codemirror_mode": {
    "name": "ipython",
    "version": 3
   },
   "file_extension": ".py",
   "mimetype": "text/x-python",
   "name": "python",
   "nbconvert_exporter": "python",
   "pygments_lexer": "ipython3",
   "version": "3.11.10"
  }
 },
 "nbformat": 4,
 "nbformat_minor": 5
}
