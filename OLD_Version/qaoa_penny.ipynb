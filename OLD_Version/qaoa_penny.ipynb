{
 "cells": [
  {
   "cell_type": "code",
   "execution_count": 2,
   "metadata": {},
   "outputs": [],
   "source": [
    "!pip install pennylane --quiet"
   ]
  },
  {
   "cell_type": "code",
   "execution_count": 10,
   "metadata": {},
   "outputs": [],
   "source": [
    "import pennylane as qml\n",
    "from pennylane import qaoa\n",
    "import networkx as nx\n",
    "from pennylane import numpy as np "
   ]
  },
  {
   "cell_type": "code",
   "execution_count": 7,
   "metadata": {},
   "outputs": [],
   "source": [
    "graph = nx.Graph([(0,1),(1,2),(2,0)])\n",
    "\n",
    "cost_h, mixer_h = qaoa.maxcut(graph) # Tworzy hamiltioniany problemu "
   ]
  },
  {
   "cell_type": "code",
   "execution_count": 8,
   "metadata": {},
   "outputs": [],
   "source": [
    "def qaoa_layer(gamma, alpha):\n",
    "    qaoa.cost_layer(gamma, cost_h)\n",
    "    qaoa.mixer_layer(alpha, mixer_h)"
   ]
  },
  {
   "cell_type": "code",
   "execution_count": 25,
   "metadata": {},
   "outputs": [
    {
     "name": "stdout",
     "output_type": "stream",
     "text": [
      "Optymalizowane parametry [1.00000000e-02 2.80761286e-08]\n",
      "wartość oczekiwana -4.551914400963142e-15\n"
     ]
    }
   ],
   "source": [
    "dev = qml.device('default.qubit', wires=3)\n",
    "\n",
    "@qml.qnode(dev)\n",
    "def circuit(params):\n",
    "    for i in range(len(params)// 2) :\n",
    "        qaoa_layer(params[i], params[i+len(params)//2])\n",
    "    return qml.expval(qaoa.maxcut(graph)[0]) # cost_h\n",
    "\n",
    "opt = qml.GradientDescentOptimizer()\n",
    "params = np.array([0.01]*2, requires_grad=True)\n",
    "\n",
    "for i in range(100):\n",
    "    params = opt.step(lambda v: -circuit(v), params)\n",
    "\n",
    "print(\"Optymalizowane parametry\", params)\n",
    "\n",
    "print(\"wartość oczekiwana\",circuit(params))"
   ]
  },
  {
   "cell_type": "code",
   "execution_count": null,
   "metadata": {},
   "outputs": [],
   "source": []
  },
  {
   "cell_type": "code",
   "execution_count": null,
   "metadata": {},
   "outputs": [],
   "source": []
  }
 ],
 "metadata": {
  "kernelspec": {
   "display_name": "venv",
   "language": "python",
   "name": "python3"
  },
  "language_info": {
   "codemirror_mode": {
    "name": "ipython",
    "version": 3
   },
   "file_extension": ".py",
   "mimetype": "text/x-python",
   "name": "python",
   "nbconvert_exporter": "python",
   "pygments_lexer": "ipython3",
   "version": "3.12.5"
  }
 },
 "nbformat": 4,
 "nbformat_minor": 2
}
