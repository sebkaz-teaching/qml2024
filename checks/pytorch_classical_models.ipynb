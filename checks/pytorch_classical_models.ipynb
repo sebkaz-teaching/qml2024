{
 "cells": [
  {
   "cell_type": "code",
   "execution_count": null,
   "metadata": {},
   "outputs": [],
   "source": [
    "X, y = make_regression(n_samples=500, n_features=1, random_state=0, noise=10.0)\n",
    "plot_regression(X, y)"
   ]
  },
  {
   "cell_type": "code",
   "execution_count": null,
   "metadata": {},
   "outputs": [],
   "source": [
    "sk_model = LinearRegression().fit(X, y)\n",
    "plot_regression(X, y, sk_model.predict(X))"
   ]
  },
  {
   "cell_type": "code",
   "execution_count": null,
   "metadata": {},
   "outputs": [],
   "source": [
    "class linearRegression(nn.Module):  # our class inherits from nn.Module and we can call it anything we like\n",
    "    def __init__(self, input_size, output_size):\n",
    "        super().__init__()                                # super().__init__() makes our class inherit everything from torch.nn.Module\n",
    "        self.linear = nn.Linear(input_size, output_size)  # this is a simple linear layer: wX + b\n",
    "\n",
    "    def forward(self, x):\n",
    "        out = self.linear(x)\n",
    "        return out"
   ]
  },
  {
   "cell_type": "code",
   "execution_count": null,
   "metadata": {},
   "outputs": [],
   "source": [
    "model = linearRegression(input_size=1, output_size=1)"
   ]
  },
  {
   "cell_type": "code",
   "execution_count": null,
   "metadata": {},
   "outputs": [],
   "source": [
    "print(model)"
   ]
  }
 ],
 "metadata": {
  "language_info": {
   "name": "python"
  }
 },
 "nbformat": 4,
 "nbformat_minor": 2
}
